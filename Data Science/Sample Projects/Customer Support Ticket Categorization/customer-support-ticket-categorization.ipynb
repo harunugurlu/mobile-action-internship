{
 "cells": [
  {
   "cell_type": "markdown",
   "id": "68c86d79",
   "metadata": {},
   "source": [
    "# This is a learning project. It aims to have hands on experience in NLP"
   ]
  },
  {
   "cell_type": "markdown",
   "id": "151f7294",
   "metadata": {},
   "source": [
    "### Trying to build a model that predicts which Product do the customer complaints concern\n",
    "### Will work with [Customer Complaint Database](https://www.kaggle.com/datasets/selener/consumer-complaint-database) from Kaggle"
   ]
  },
  {
   "cell_type": "code",
   "execution_count": 4,
   "id": "781fa906",
   "metadata": {},
   "outputs": [],
   "source": [
    "import pandas as pd\n",
    "import numpy as np\n",
    "import os\n",
    "import json"
   ]
  },
  {
   "cell_type": "code",
   "execution_count": 62,
   "id": "4c963193",
   "metadata": {},
   "outputs": [],
   "source": [
    "SPARSITY_THRESHOLD = 0.5\n",
    "\n",
    "def optimize(df: pd.DataFrame) -> pd.DataFrame:\n",
    "    float_types = {np.finfo(np.float16).max: np.float16, np.finfo(np.float32).max: np.float32}\n",
    "    int_types = {np.iinfo(np.int8).max: np.int8, np.iinfo(np.int16).max: np.int16, np.iinfo(np.int32).max: np.int32}\n",
    "    \n",
    "    for dtype in ['float64', 'int64']:\n",
    "        selected_columns = df.select_dtypes(include=[dtype])\n",
    "        max_values = selected_columns.max()\n",
    "        types = float_types if dtype == 'float64' else int_types\n",
    "\n",
    "        for col in selected_columns.columns:\n",
    "            if df[col].isna().sum() / len(df[col]) > SPARSITY_THRESHOLD:  # If mostly NaN values\n",
    "                df[col] = pd.arrays.SparseArray(df[col])\n",
    "            else:\n",
    "                max_val = max_values[col]\n",
    "                if not pd.isna(max_val):  # skip columns with only NaNs\n",
    "                    for max_type_val, type_val in types.items():\n",
    "                        if max_val <= max_type_val:\n",
    "                            df[col] = df[col].astype(type_val)\n",
    "                            break\n",
    "\n",
    "    for col in df.select_dtypes(include=['object']).columns:\n",
    "        if df[col].isna().sum() / len(df[col]) > SPARSITY_THRESHOLD:  # If mostly NaN values\n",
    "            df[col] = pd.arrays.SparseArray(df[col])\n",
    "        else:\n",
    "            try:\n",
    "                df[col] = pd.to_datetime(df[col])\n",
    "            except ValueError:\n",
    "                num_unique_values = len(df[col].unique())\n",
    "                num_total_values = len(df[col])\n",
    "                if num_unique_values / num_total_values < SPARSITY_THRESHOLD:\n",
    "                    df[col] = df[col].astype('category')\n",
    "\n",
    "    return df\n"
   ]
  },
  {
   "cell_type": "markdown",
   "id": "0731b940",
   "metadata": {},
   "source": [
    "### The ``optimize()`` method is fetched from the notebook [memory-usage-optimization-poc.ipynb](https://github.com/harunugurlu/mobile-action-internship/blob/main/Data%20Science/PoC/Memory%20Usage%20Optimization/memory-usage-optimization-poc.ipynb)"
   ]
  },
  {
   "cell_type": "code",
   "execution_count": 26,
   "id": "3b56405b",
   "metadata": {},
   "outputs": [],
   "source": [
    "data_dir = 'data/rows.csv'"
   ]
  },
  {
   "cell_type": "code",
   "execution_count": 27,
   "id": "ac1254f5",
   "metadata": {},
   "outputs": [
    {
     "name": "stderr",
     "output_type": "stream",
     "text": [
      "C:\\Users\\harun\\AppData\\Local\\Temp\\ipykernel_12508\\291152379.py:1: DtypeWarning: Columns (4,5,6,11,16) have mixed types. Specify dtype option on import or set low_memory=False.\n",
      "  customer_tickets = pd.read_csv(data_dir)\n"
     ]
    }
   ],
   "source": [
    "customer_tickets = pd.read_csv(data_dir)"
   ]
  },
  {
   "cell_type": "code",
   "execution_count": 37,
   "id": "8ed34861",
   "metadata": {},
   "outputs": [
    {
     "data": {
      "text/html": [
       "<div>\n",
       "<style scoped>\n",
       "    .dataframe tbody tr th:only-of-type {\n",
       "        vertical-align: middle;\n",
       "    }\n",
       "\n",
       "    .dataframe tbody tr th {\n",
       "        vertical-align: top;\n",
       "    }\n",
       "\n",
       "    .dataframe thead th {\n",
       "        text-align: right;\n",
       "    }\n",
       "</style>\n",
       "<table border=\"1\" class=\"dataframe\">\n",
       "  <thead>\n",
       "    <tr style=\"text-align: right;\">\n",
       "      <th></th>\n",
       "      <th>Date received</th>\n",
       "      <th>Product</th>\n",
       "      <th>Sub-product</th>\n",
       "      <th>Issue</th>\n",
       "      <th>Sub-issue</th>\n",
       "      <th>Consumer complaint narrative</th>\n",
       "      <th>Company public response</th>\n",
       "      <th>Company</th>\n",
       "      <th>State</th>\n",
       "      <th>ZIP code</th>\n",
       "      <th>Tags</th>\n",
       "      <th>Consumer consent provided?</th>\n",
       "      <th>Submitted via</th>\n",
       "      <th>Date sent to company</th>\n",
       "      <th>Company response to consumer</th>\n",
       "      <th>Timely response?</th>\n",
       "      <th>Consumer disputed?</th>\n",
       "      <th>Complaint ID</th>\n",
       "    </tr>\n",
       "  </thead>\n",
       "  <tbody>\n",
       "    <tr>\n",
       "      <th>0</th>\n",
       "      <td>05/10/2019</td>\n",
       "      <td>Checking or savings account</td>\n",
       "      <td>Checking account</td>\n",
       "      <td>Managing an account</td>\n",
       "      <td>Problem using a debit or ATM card</td>\n",
       "      <td>NaN</td>\n",
       "      <td>NaN</td>\n",
       "      <td>NAVY FEDERAL CREDIT UNION</td>\n",
       "      <td>FL</td>\n",
       "      <td>328XX</td>\n",
       "      <td>Older American</td>\n",
       "      <td>NaN</td>\n",
       "      <td>Web</td>\n",
       "      <td>05/10/2019</td>\n",
       "      <td>In progress</td>\n",
       "      <td>Yes</td>\n",
       "      <td>NaN</td>\n",
       "      <td>3238275</td>\n",
       "    </tr>\n",
       "    <tr>\n",
       "      <th>1</th>\n",
       "      <td>05/10/2019</td>\n",
       "      <td>Checking or savings account</td>\n",
       "      <td>Other banking product or service</td>\n",
       "      <td>Managing an account</td>\n",
       "      <td>Deposits and withdrawals</td>\n",
       "      <td>NaN</td>\n",
       "      <td>NaN</td>\n",
       "      <td>BOEING EMPLOYEES CREDIT UNION</td>\n",
       "      <td>WA</td>\n",
       "      <td>98204</td>\n",
       "      <td>NaN</td>\n",
       "      <td>NaN</td>\n",
       "      <td>Referral</td>\n",
       "      <td>05/10/2019</td>\n",
       "      <td>Closed with explanation</td>\n",
       "      <td>Yes</td>\n",
       "      <td>NaN</td>\n",
       "      <td>3238228</td>\n",
       "    </tr>\n",
       "    <tr>\n",
       "      <th>2</th>\n",
       "      <td>05/10/2019</td>\n",
       "      <td>Debt collection</td>\n",
       "      <td>Payday loan debt</td>\n",
       "      <td>Communication tactics</td>\n",
       "      <td>Frequent or repeated calls</td>\n",
       "      <td>NaN</td>\n",
       "      <td>NaN</td>\n",
       "      <td>CURO Intermediate Holdings</td>\n",
       "      <td>TX</td>\n",
       "      <td>751XX</td>\n",
       "      <td>NaN</td>\n",
       "      <td>NaN</td>\n",
       "      <td>Web</td>\n",
       "      <td>05/10/2019</td>\n",
       "      <td>Closed with explanation</td>\n",
       "      <td>Yes</td>\n",
       "      <td>NaN</td>\n",
       "      <td>3237964</td>\n",
       "    </tr>\n",
       "    <tr>\n",
       "      <th>3</th>\n",
       "      <td>05/10/2019</td>\n",
       "      <td>Credit reporting, credit repair services, or o...</td>\n",
       "      <td>Credit reporting</td>\n",
       "      <td>Incorrect information on your report</td>\n",
       "      <td>Old information reappears or never goes away</td>\n",
       "      <td>NaN</td>\n",
       "      <td>NaN</td>\n",
       "      <td>Ad Astra Recovery Services Inc</td>\n",
       "      <td>LA</td>\n",
       "      <td>708XX</td>\n",
       "      <td>NaN</td>\n",
       "      <td>NaN</td>\n",
       "      <td>Web</td>\n",
       "      <td>05/10/2019</td>\n",
       "      <td>Closed with explanation</td>\n",
       "      <td>Yes</td>\n",
       "      <td>NaN</td>\n",
       "      <td>3238479</td>\n",
       "    </tr>\n",
       "    <tr>\n",
       "      <th>4</th>\n",
       "      <td>05/10/2019</td>\n",
       "      <td>Checking or savings account</td>\n",
       "      <td>Checking account</td>\n",
       "      <td>Managing an account</td>\n",
       "      <td>Banking errors</td>\n",
       "      <td>NaN</td>\n",
       "      <td>NaN</td>\n",
       "      <td>ALLY FINANCIAL INC.</td>\n",
       "      <td>AZ</td>\n",
       "      <td>85205</td>\n",
       "      <td>NaN</td>\n",
       "      <td>NaN</td>\n",
       "      <td>Postal mail</td>\n",
       "      <td>05/10/2019</td>\n",
       "      <td>In progress</td>\n",
       "      <td>Yes</td>\n",
       "      <td>NaN</td>\n",
       "      <td>3238460</td>\n",
       "    </tr>\n",
       "  </tbody>\n",
       "</table>\n",
       "</div>"
      ],
      "text/plain": [
       "  Date received                                            Product  \\\n",
       "0    05/10/2019                        Checking or savings account   \n",
       "1    05/10/2019                        Checking or savings account   \n",
       "2    05/10/2019                                    Debt collection   \n",
       "3    05/10/2019  Credit reporting, credit repair services, or o...   \n",
       "4    05/10/2019                        Checking or savings account   \n",
       "\n",
       "                        Sub-product                                 Issue  \\\n",
       "0                  Checking account                   Managing an account   \n",
       "1  Other banking product or service                   Managing an account   \n",
       "2                  Payday loan debt                 Communication tactics   \n",
       "3                  Credit reporting  Incorrect information on your report   \n",
       "4                  Checking account                   Managing an account   \n",
       "\n",
       "                                      Sub-issue Consumer complaint narrative  \\\n",
       "0             Problem using a debit or ATM card                          NaN   \n",
       "1                      Deposits and withdrawals                          NaN   \n",
       "2                    Frequent or repeated calls                          NaN   \n",
       "3  Old information reappears or never goes away                          NaN   \n",
       "4                                Banking errors                          NaN   \n",
       "\n",
       "  Company public response                         Company State ZIP code  \\\n",
       "0                     NaN       NAVY FEDERAL CREDIT UNION    FL    328XX   \n",
       "1                     NaN   BOEING EMPLOYEES CREDIT UNION    WA    98204   \n",
       "2                     NaN      CURO Intermediate Holdings    TX    751XX   \n",
       "3                     NaN  Ad Astra Recovery Services Inc    LA    708XX   \n",
       "4                     NaN             ALLY FINANCIAL INC.    AZ    85205   \n",
       "\n",
       "             Tags Consumer consent provided? Submitted via  \\\n",
       "0  Older American                        NaN           Web   \n",
       "1             NaN                        NaN      Referral   \n",
       "2             NaN                        NaN           Web   \n",
       "3             NaN                        NaN           Web   \n",
       "4             NaN                        NaN   Postal mail   \n",
       "\n",
       "  Date sent to company Company response to consumer Timely response?  \\\n",
       "0           05/10/2019                  In progress              Yes   \n",
       "1           05/10/2019      Closed with explanation              Yes   \n",
       "2           05/10/2019      Closed with explanation              Yes   \n",
       "3           05/10/2019      Closed with explanation              Yes   \n",
       "4           05/10/2019                  In progress              Yes   \n",
       "\n",
       "  Consumer disputed?  Complaint ID  \n",
       "0                NaN       3238275  \n",
       "1                NaN       3238228  \n",
       "2                NaN       3237964  \n",
       "3                NaN       3238479  \n",
       "4                NaN       3238460  "
      ]
     },
     "execution_count": 37,
     "metadata": {},
     "output_type": "execute_result"
    }
   ],
   "source": [
    "customer_tickets.head()"
   ]
  },
  {
   "cell_type": "markdown",
   "id": "921228c3",
   "metadata": {},
   "source": [
    "Will use the ``Consumer complaint narrative`` to predict the ``Product`` "
   ]
  },
  {
   "cell_type": "code",
   "execution_count": 67,
   "id": "fe65aa06",
   "metadata": {},
   "outputs": [
    {
     "name": "stdout",
     "output_type": "stream",
     "text": [
      "(1282355, 18)\n"
     ]
    }
   ],
   "source": [
    "print(customer_tickets.shape)"
   ]
  },
  {
   "cell_type": "code",
   "execution_count": 63,
   "id": "ff2daab9",
   "metadata": {
    "scrolled": true
   },
   "outputs": [
    {
     "name": "stdout",
     "output_type": "stream",
     "text": [
      "<class 'pandas.core.frame.DataFrame'>\n",
      "RangeIndex: 1282355 entries, 0 to 1282354\n",
      "Data columns (total 18 columns):\n",
      " #   Column                        Non-Null Count    Dtype \n",
      "---  ------                        --------------    ----- \n",
      " 0   Date received                 1282355 non-null  object\n",
      " 1   Product                       1282355 non-null  object\n",
      " 2   Sub-product                   1047189 non-null  object\n",
      " 3   Issue                         1282355 non-null  object\n",
      " 4   Sub-issue                     751169 non-null   object\n",
      " 5   Consumer complaint narrative  383564 non-null   object\n",
      " 6   Company public response       449082 non-null   object\n",
      " 7   Company                       1282355 non-null  object\n",
      " 8   State                         1262955 non-null  object\n",
      " 9   ZIP code                      1167057 non-null  object\n",
      " 10  Tags                          175643 non-null   object\n",
      " 11  Consumer consent provided?    690654 non-null   object\n",
      " 12  Submitted via                 1282355 non-null  object\n",
      " 13  Date sent to company          1282355 non-null  object\n",
      " 14  Company response to consumer  1282348 non-null  object\n",
      " 15  Timely response?              1282355 non-null  object\n",
      " 16  Consumer disputed?            768501 non-null   object\n",
      " 17  Complaint ID                  1282355 non-null  int64 \n",
      "dtypes: int64(1), object(17)\n",
      "memory usage: 1.7 GB\n"
     ]
    }
   ],
   "source": [
    "customer_tickets.info(memory_usage=\"deep\")"
   ]
  },
  {
   "cell_type": "markdown",
   "id": "eb07475f",
   "metadata": {},
   "source": [
    "The dataset is very large (1m+ rows, 1.7gb memory usage), let's shrink it down"
   ]
  },
  {
   "cell_type": "code",
   "execution_count": 64,
   "id": "b116ebc2",
   "metadata": {},
   "outputs": [],
   "source": [
    "customer_tickets = optimize(customer_tickets)"
   ]
  },
  {
   "cell_type": "code",
   "execution_count": 103,
   "id": "70fa99b5",
   "metadata": {
    "scrolled": true
   },
   "outputs": [
    {
     "name": "stdout",
     "output_type": "stream",
     "text": [
      "<class 'pandas.core.frame.DataFrame'>\n",
      "RangeIndex: 1282355 entries, 0 to 1282354\n",
      "Data columns (total 18 columns):\n",
      " #   Column                        Non-Null Count    Dtype              \n",
      "---  ------                        --------------    -----              \n",
      " 0   Date received                 1282355 non-null  datetime64[ns]     \n",
      " 1   Product                       1282355 non-null  category           \n",
      " 2   Sub-product                   1047189 non-null  category           \n",
      " 3   Issue                         1282355 non-null  category           \n",
      " 4   Sub-issue                     751169 non-null   category           \n",
      " 5   Consumer complaint narrative  383564 non-null   Sparse[object, nan]\n",
      " 6   Company public response       449082 non-null   Sparse[object, nan]\n",
      " 7   Company                       1282355 non-null  category           \n",
      " 8   State                         1262955 non-null  category           \n",
      " 9   ZIP code                      1167057 non-null  category           \n",
      " 10  Tags                          175643 non-null   Sparse[object, nan]\n",
      " 11  Consumer consent provided?    690654 non-null   category           \n",
      " 12  Submitted via                 1282355 non-null  category           \n",
      " 13  Date sent to company          1282355 non-null  datetime64[ns]     \n",
      " 14  Company response to consumer  1282348 non-null  category           \n",
      " 15  Timely response?              1282355 non-null  category           \n",
      " 16  Consumer disputed?            768501 non-null   category           \n",
      " 17  Complaint ID                  1282355 non-null  int32              \n",
      "dtypes: Sparse[object, nan](3), category(12), datetime64[ns](2), int32(1)\n",
      "memory usage: 605.1 MB\n"
     ]
    }
   ],
   "source": [
    "customer_tickets.info(memory_usage=\"deep\")"
   ]
  },
  {
   "cell_type": "markdown",
   "id": "664f9ca0",
   "metadata": {},
   "source": [
    "Inspecting the features of interest (``Consumer complaint narrative`` and ``Product``)"
   ]
  },
  {
   "cell_type": "code",
   "execution_count": 68,
   "id": "da1c9e85",
   "metadata": {},
   "outputs": [
    {
     "name": "stdout",
     "output_type": "stream",
     "text": [
      "Num of non na ticket descriptions 383564\n",
      "Num of unique products: 18\n"
     ]
    }
   ],
   "source": [
    "print(\"Num of non na ticket descriptions\", customer_tickets['Consumer complaint narrative'].count())\n",
    "print(\"Num of unique products:\", customer_tickets['Product'].nunique())"
   ]
  },
  {
   "cell_type": "markdown",
   "id": "cd086fb5",
   "metadata": {},
   "source": [
    "We have over __1m__ rows but only less than half of them include a consumer complaint narrative. Lucky for us this number is still large (380k+) and adequate to use in __BERT__. Therefore, we can just drop them. But before that it is a good approach to inspect and to see if there is any correlation between the missing values of  ``Consumer complaint narrative`` and their respective ``Product``."
   ]
  },
  {
   "cell_type": "code",
   "execution_count": 82,
   "id": "31f0c87b",
   "metadata": {},
   "outputs": [],
   "source": [
    "# Getting the rows with NaN values for 'Consumer complaint narrative'\n",
    "invalid_tickets = customer_tickets[customer_tickets['Consumer complaint narrative'].isnull()]"
   ]
  },
  {
   "cell_type": "code",
   "execution_count": 73,
   "id": "2ad73bc9",
   "metadata": {},
   "outputs": [
    {
     "data": {
      "text/plain": [
       "(898791, 18)"
      ]
     },
     "execution_count": 73,
     "metadata": {},
     "output_type": "execute_result"
    }
   ],
   "source": [
    "invalid_tickets.shape"
   ]
  },
  {
   "cell_type": "code",
   "execution_count": 92,
   "id": "0beec8c9",
   "metadata": {},
   "outputs": [],
   "source": [
    "products_complaints = invalid_tickets[['Product', 'Consumer complaint narrative']]"
   ]
  },
  {
   "cell_type": "code",
   "execution_count": 99,
   "id": "7ea75d23",
   "metadata": {},
   "outputs": [
    {
     "data": {
      "text/plain": [
       "Mortgage                                                                        225111\n",
       "Debt collection                                                                 158163\n",
       "Credit reporting, credit repair services, or other personal consumer reports    133600\n",
       "Credit reporting                                                                108844\n",
       "Bank account or service                                                          71321\n",
       "Credit card                                                                      70352\n",
       "Student loan                                                                     29875\n",
       "Checking or savings account                                                      27760\n",
       "Credit card or prepaid card                                                      26274\n",
       "Consumer Loan                                                                    22131\n",
       "Vehicle loan or lease                                                             5632\n",
       "Money transfer, virtual currency, or money service                                4698\n",
       "Payday loan, title loan, or personal loan                                         4238\n",
       "Money transfers                                                                   3857\n",
       "Payday loan                                                                       3797\n",
       "Prepaid card                                                                      2369\n",
       "Other financial service                                                            767\n",
       "Virtual currency                                                                     2\n",
       "Name: Product, dtype: int64"
      ]
     },
     "execution_count": 99,
     "metadata": {},
     "output_type": "execute_result"
    }
   ],
   "source": [
    "products_complaints['Product'].value_counts()"
   ]
  },
  {
   "cell_type": "markdown",
   "id": "e5ebdd78",
   "metadata": {},
   "source": [
    "Seems like there is no correlation between missing narrative values and product values. There is no large number of certain product. Actually, we should take into account other features such as ``Sub-product``, ``Issue``, ``Sub-issue`` etc. but we are ignoring them for ease."
   ]
  },
  {
   "cell_type": "markdown",
   "id": "defcac24",
   "metadata": {},
   "source": [
    "Get the \"valid\" tickets with consumer complaint narratives."
   ]
  },
  {
   "cell_type": "code",
   "execution_count": 111,
   "id": "8217938b",
   "metadata": {},
   "outputs": [],
   "source": [
    "valid_tickets = customer_tickets[customer_tickets['Consumer complaint narrative'].notna()].copy()"
   ]
  },
  {
   "cell_type": "code",
   "execution_count": 112,
   "id": "8353b0e9",
   "metadata": {},
   "outputs": [
    {
     "name": "stdout",
     "output_type": "stream",
     "text": [
      "(383564, 18)\n"
     ]
    },
    {
     "data": {
      "text/html": [
       "<div>\n",
       "<style scoped>\n",
       "    .dataframe tbody tr th:only-of-type {\n",
       "        vertical-align: middle;\n",
       "    }\n",
       "\n",
       "    .dataframe tbody tr th {\n",
       "        vertical-align: top;\n",
       "    }\n",
       "\n",
       "    .dataframe thead th {\n",
       "        text-align: right;\n",
       "    }\n",
       "</style>\n",
       "<table border=\"1\" class=\"dataframe\">\n",
       "  <thead>\n",
       "    <tr style=\"text-align: right;\">\n",
       "      <th></th>\n",
       "      <th>Date received</th>\n",
       "      <th>Product</th>\n",
       "      <th>Sub-product</th>\n",
       "      <th>Issue</th>\n",
       "      <th>Sub-issue</th>\n",
       "      <th>Consumer complaint narrative</th>\n",
       "      <th>Company public response</th>\n",
       "      <th>Company</th>\n",
       "      <th>State</th>\n",
       "      <th>ZIP code</th>\n",
       "      <th>Tags</th>\n",
       "      <th>Consumer consent provided?</th>\n",
       "      <th>Submitted via</th>\n",
       "      <th>Date sent to company</th>\n",
       "      <th>Company response to consumer</th>\n",
       "      <th>Timely response?</th>\n",
       "      <th>Consumer disputed?</th>\n",
       "      <th>Complaint ID</th>\n",
       "    </tr>\n",
       "  </thead>\n",
       "  <tbody>\n",
       "    <tr>\n",
       "      <th>29904</th>\n",
       "      <td>2019-03-23</td>\n",
       "      <td>Credit reporting, credit repair services, or o...</td>\n",
       "      <td>Credit reporting</td>\n",
       "      <td>Incorrect information on your report</td>\n",
       "      <td>Account information incorrect</td>\n",
       "      <td>The Summer of XX/XX/2018 I was denied a mortga...</td>\n",
       "      <td>Company has responded to the consumer and the ...</td>\n",
       "      <td>TRANSUNION INTERMEDIATE HOLDINGS, INC.</td>\n",
       "      <td>IL</td>\n",
       "      <td>NaN</td>\n",
       "      <td>NaN</td>\n",
       "      <td>Consent provided</td>\n",
       "      <td>Web</td>\n",
       "      <td>2019-03-23</td>\n",
       "      <td>Closed with explanation</td>\n",
       "      <td>Yes</td>\n",
       "      <td>NaN</td>\n",
       "      <td>3189109</td>\n",
       "    </tr>\n",
       "    <tr>\n",
       "      <th>30629</th>\n",
       "      <td>2019-03-22</td>\n",
       "      <td>Credit reporting, credit repair services, or o...</td>\n",
       "      <td>Credit reporting</td>\n",
       "      <td>Incorrect information on your report</td>\n",
       "      <td>Account information incorrect</td>\n",
       "      <td>There are many mistakes appear in my report wi...</td>\n",
       "      <td>Company has responded to the consumer and the ...</td>\n",
       "      <td>TRANSUNION INTERMEDIATE HOLDINGS, INC.</td>\n",
       "      <td>VA</td>\n",
       "      <td>220XX</td>\n",
       "      <td>NaN</td>\n",
       "      <td>Consent provided</td>\n",
       "      <td>Web</td>\n",
       "      <td>2019-03-22</td>\n",
       "      <td>Closed with explanation</td>\n",
       "      <td>Yes</td>\n",
       "      <td>NaN</td>\n",
       "      <td>3187982</td>\n",
       "    </tr>\n",
       "    <tr>\n",
       "      <th>30735</th>\n",
       "      <td>2019-03-22</td>\n",
       "      <td>Credit reporting, credit repair services, or o...</td>\n",
       "      <td>Credit reporting</td>\n",
       "      <td>Incorrect information on your report</td>\n",
       "      <td>Account information incorrect</td>\n",
       "      <td>There are many mistakes appear in my report wi...</td>\n",
       "      <td>Company has responded to the consumer and the ...</td>\n",
       "      <td>TRANSUNION INTERMEDIATE HOLDINGS, INC.</td>\n",
       "      <td>TX</td>\n",
       "      <td>770XX</td>\n",
       "      <td>NaN</td>\n",
       "      <td>Consent provided</td>\n",
       "      <td>Web</td>\n",
       "      <td>2019-03-22</td>\n",
       "      <td>Closed with explanation</td>\n",
       "      <td>Yes</td>\n",
       "      <td>NaN</td>\n",
       "      <td>3187954</td>\n",
       "    </tr>\n",
       "    <tr>\n",
       "      <th>30795</th>\n",
       "      <td>2019-03-22</td>\n",
       "      <td>Credit reporting, credit repair services, or o...</td>\n",
       "      <td>Credit reporting</td>\n",
       "      <td>Incorrect information on your report</td>\n",
       "      <td>Account information incorrect</td>\n",
       "      <td>There are many mistakes appear in my report wi...</td>\n",
       "      <td>Company has responded to the consumer and the ...</td>\n",
       "      <td>TRANSUNION INTERMEDIATE HOLDINGS, INC.</td>\n",
       "      <td>TX</td>\n",
       "      <td>787XX</td>\n",
       "      <td>NaN</td>\n",
       "      <td>Consent provided</td>\n",
       "      <td>Web</td>\n",
       "      <td>2019-03-22</td>\n",
       "      <td>Closed with explanation</td>\n",
       "      <td>Yes</td>\n",
       "      <td>NaN</td>\n",
       "      <td>3188091</td>\n",
       "    </tr>\n",
       "    <tr>\n",
       "      <th>30807</th>\n",
       "      <td>2019-03-22</td>\n",
       "      <td>Credit reporting, credit repair services, or o...</td>\n",
       "      <td>Credit reporting</td>\n",
       "      <td>Incorrect information on your report</td>\n",
       "      <td>Account information incorrect</td>\n",
       "      <td>There are many mistakes appear in my report wi...</td>\n",
       "      <td>Company has responded to the consumer and the ...</td>\n",
       "      <td>TRANSUNION INTERMEDIATE HOLDINGS, INC.</td>\n",
       "      <td>CA</td>\n",
       "      <td>951XX</td>\n",
       "      <td>NaN</td>\n",
       "      <td>Consent provided</td>\n",
       "      <td>Web</td>\n",
       "      <td>2019-03-22</td>\n",
       "      <td>Closed with explanation</td>\n",
       "      <td>Yes</td>\n",
       "      <td>NaN</td>\n",
       "      <td>3188119</td>\n",
       "    </tr>\n",
       "  </tbody>\n",
       "</table>\n",
       "</div>"
      ],
      "text/plain": [
       "      Date received                                            Product  \\\n",
       "29904    2019-03-23  Credit reporting, credit repair services, or o...   \n",
       "30629    2019-03-22  Credit reporting, credit repair services, or o...   \n",
       "30735    2019-03-22  Credit reporting, credit repair services, or o...   \n",
       "30795    2019-03-22  Credit reporting, credit repair services, or o...   \n",
       "30807    2019-03-22  Credit reporting, credit repair services, or o...   \n",
       "\n",
       "            Sub-product                                 Issue  \\\n",
       "29904  Credit reporting  Incorrect information on your report   \n",
       "30629  Credit reporting  Incorrect information on your report   \n",
       "30735  Credit reporting  Incorrect information on your report   \n",
       "30795  Credit reporting  Incorrect information on your report   \n",
       "30807  Credit reporting  Incorrect information on your report   \n",
       "\n",
       "                           Sub-issue  \\\n",
       "29904  Account information incorrect   \n",
       "30629  Account information incorrect   \n",
       "30735  Account information incorrect   \n",
       "30795  Account information incorrect   \n",
       "30807  Account information incorrect   \n",
       "\n",
       "                            Consumer complaint narrative  \\\n",
       "29904  The Summer of XX/XX/2018 I was denied a mortga...   \n",
       "30629  There are many mistakes appear in my report wi...   \n",
       "30735  There are many mistakes appear in my report wi...   \n",
       "30795  There are many mistakes appear in my report wi...   \n",
       "30807  There are many mistakes appear in my report wi...   \n",
       "\n",
       "                                 Company public response  \\\n",
       "29904  Company has responded to the consumer and the ...   \n",
       "30629  Company has responded to the consumer and the ...   \n",
       "30735  Company has responded to the consumer and the ...   \n",
       "30795  Company has responded to the consumer and the ...   \n",
       "30807  Company has responded to the consumer and the ...   \n",
       "\n",
       "                                      Company State ZIP code Tags  \\\n",
       "29904  TRANSUNION INTERMEDIATE HOLDINGS, INC.    IL      NaN  NaN   \n",
       "30629  TRANSUNION INTERMEDIATE HOLDINGS, INC.    VA    220XX  NaN   \n",
       "30735  TRANSUNION INTERMEDIATE HOLDINGS, INC.    TX    770XX  NaN   \n",
       "30795  TRANSUNION INTERMEDIATE HOLDINGS, INC.    TX    787XX  NaN   \n",
       "30807  TRANSUNION INTERMEDIATE HOLDINGS, INC.    CA    951XX  NaN   \n",
       "\n",
       "      Consumer consent provided? Submitted via Date sent to company  \\\n",
       "29904           Consent provided           Web           2019-03-23   \n",
       "30629           Consent provided           Web           2019-03-22   \n",
       "30735           Consent provided           Web           2019-03-22   \n",
       "30795           Consent provided           Web           2019-03-22   \n",
       "30807           Consent provided           Web           2019-03-22   \n",
       "\n",
       "      Company response to consumer Timely response? Consumer disputed?  \\\n",
       "29904      Closed with explanation              Yes                NaN   \n",
       "30629      Closed with explanation              Yes                NaN   \n",
       "30735      Closed with explanation              Yes                NaN   \n",
       "30795      Closed with explanation              Yes                NaN   \n",
       "30807      Closed with explanation              Yes                NaN   \n",
       "\n",
       "       Complaint ID  \n",
       "29904       3189109  \n",
       "30629       3187982  \n",
       "30735       3187954  \n",
       "30795       3188091  \n",
       "30807       3188119  "
      ]
     },
     "execution_count": 112,
     "metadata": {},
     "output_type": "execute_result"
    }
   ],
   "source": [
    "print(valid_tickets.shape)\n",
    "valid_tickets.head()"
   ]
  },
  {
   "cell_type": "code",
   "execution_count": 113,
   "id": "f9e5a826",
   "metadata": {},
   "outputs": [
    {
     "name": "stdout",
     "output_type": "stream",
     "text": [
      "<class 'pandas.core.frame.DataFrame'>\n",
      "Int64Index: 383564 entries, 29904 to 912553\n",
      "Data columns (total 18 columns):\n",
      " #   Column                        Non-Null Count   Dtype              \n",
      "---  ------                        --------------   -----              \n",
      " 0   Date received                 383564 non-null  datetime64[ns]     \n",
      " 1   Product                       383564 non-null  category           \n",
      " 2   Sub-product                   331391 non-null  category           \n",
      " 3   Issue                         383564 non-null  category           \n",
      " 4   Sub-issue                     269891 non-null  category           \n",
      " 5   Consumer complaint narrative  383564 non-null  Sparse[object, nan]\n",
      " 6   Company public response       182680 non-null  Sparse[object, nan]\n",
      " 7   Company                       383564 non-null  category           \n",
      " 8   State                         382178 non-null  category           \n",
      " 9   ZIP code                      294787 non-null  category           \n",
      " 10  Tags                          66245 non-null   Sparse[object, nan]\n",
      " 11  Consumer consent provided?    383564 non-null  category           \n",
      " 12  Submitted via                 383564 non-null  category           \n",
      " 13  Date sent to company          383564 non-null  datetime64[ns]     \n",
      " 14  Company response to consumer  383560 non-null  category           \n",
      " 15  Timely response?              383564 non-null  category           \n",
      " 16  Consumer disputed?            164076 non-null  category           \n",
      " 17  Complaint ID                  383564 non-null  int32              \n",
      "dtypes: Sparse[object, nan](3), category(12), datetime64[ns](2), int32(1)\n",
      "memory usage: 479.0 MB\n"
     ]
    }
   ],
   "source": [
    "valid_tickets.info(memory_usage=\"deep\")"
   ]
  },
  {
   "cell_type": "markdown",
   "id": "ca2a3587",
   "metadata": {},
   "source": [
    "We have converted the dtype of the ``Consumer complaint narrative`` to Sparse array because it had lots of missing values. But in our ``valid_tickets`` DataFrame, we no longer have missing values of ``Consumer complaint narrative``. Therefore, we should cast it back to dense array."
   ]
  },
  {
   "cell_type": "code",
   "execution_count": 114,
   "id": "1dabf65b",
   "metadata": {},
   "outputs": [],
   "source": [
    "valid_tickets.loc[:, 'Consumer complaint narrative'] = valid_tickets['Consumer complaint narrative'].sparse.to_dense()"
   ]
  },
  {
   "cell_type": "markdown",
   "id": "28632ab3",
   "metadata": {},
   "source": [
    "Should check the other Sparse array columns as well."
   ]
  },
  {
   "cell_type": "code",
   "execution_count": 115,
   "id": "aa1ad91c",
   "metadata": {},
   "outputs": [
    {
     "name": "stdout",
     "output_type": "stream",
     "text": [
      "<class 'pandas.core.frame.DataFrame'>\n",
      "Int64Index: 383564 entries, 29904 to 912553\n",
      "Data columns (total 18 columns):\n",
      " #   Column                        Non-Null Count   Dtype              \n",
      "---  ------                        --------------   -----              \n",
      " 0   Date received                 383564 non-null  datetime64[ns]     \n",
      " 1   Product                       383564 non-null  category           \n",
      " 2   Sub-product                   331391 non-null  category           \n",
      " 3   Issue                         383564 non-null  category           \n",
      " 4   Sub-issue                     269891 non-null  category           \n",
      " 5   Consumer complaint narrative  383564 non-null  object             \n",
      " 6   Company public response       182680 non-null  Sparse[object, nan]\n",
      " 7   Company                       383564 non-null  category           \n",
      " 8   State                         382178 non-null  category           \n",
      " 9   ZIP code                      294787 non-null  category           \n",
      " 10  Tags                          66245 non-null   Sparse[object, nan]\n",
      " 11  Consumer consent provided?    383564 non-null  category           \n",
      " 12  Submitted via                 383564 non-null  category           \n",
      " 13  Date sent to company          383564 non-null  datetime64[ns]     \n",
      " 14  Company response to consumer  383560 non-null  category           \n",
      " 15  Timely response?              383564 non-null  category           \n",
      " 16  Consumer disputed?            164076 non-null  category           \n",
      " 17  Complaint ID                  383564 non-null  int32              \n",
      "dtypes: Sparse[object, nan](2), category(12), datetime64[ns](2), int32(1), object(1)\n",
      "memory usage: 22.7+ MB\n"
     ]
    }
   ],
   "source": [
    "valid_tickets.info()"
   ]
  },
  {
   "cell_type": "code",
   "execution_count": 22,
   "id": "a1e46cad",
   "metadata": {
    "scrolled": true
   },
   "outputs": [
    {
     "name": "stdout",
     "output_type": "stream",
     "text": [
      "Ticket category unique values:  13\n",
      "row count:  48549\n",
      "Min value of category: 0\n",
      "Min value of category: 12\n",
      "True\n"
     ]
    }
   ],
   "source": [
    "# We have 13 unique values, the min is 0 and the max is 12 which means we have all the values between 0-12.\n",
    "\n",
    "print(\"row count: \", customer_tickets.shape[0])\n",
    "print(\"Ticket category unique values: \", customer_tickets['category'].nunique())\n",
    "print(\"Min value of category:\", customer_tickets['category'].min())\n",
    "print(\"Min value of category:\", customer_tickets['category'].max())"
   ]
  },
  {
   "cell_type": "code",
   "execution_count": 17,
   "id": "95006620",
   "metadata": {},
   "outputs": [
    {
     "name": "stdout",
     "output_type": "stream",
     "text": [
      "Num of missing values in \"category\" column: 0\n",
      "Num of missing values in \"title\" column: 712\n",
      "Num of missing values in \"body\" column: 712\n"
     ]
    }
   ],
   "source": [
    "print(\"Num of missing values in \\\"category\\\" column:\", customer_tickets['category'].isnull().sum())\n",
    "print(\"Num of missing values in \\\"title\\\" column:\", customer_tickets['title'].isnull().sum())\n",
    "print(\"Num of missing values in \\\"body\\\" column:\", customer_tickets['title'].isnull().sum())"
   ]
  },
  {
   "cell_type": "markdown",
   "id": "d7781880",
   "metadata": {},
   "source": [
    "Since there are 712 missing values in the body column, we need to clean it. But first, let's see if the value 0 in the ``category`` column indicates missing value. If we have zeroes in the ``category`` where the ``body`` is missing, it might be an indicator that 0 is not a valid category."
   ]
  },
  {
   "cell_type": "code",
   "execution_count": 25,
   "id": "ea2382f7",
   "metadata": {},
   "outputs": [
    {
     "name": "stdout",
     "output_type": "stream",
     "text": [
      "The value counts in the \"category\" column: 4     34061\n",
      "5      9634\n",
      "6      2628\n",
      "7       921\n",
      "11      612\n",
      "8       239\n",
      "9       191\n",
      "3       137\n",
      "1        72\n",
      "12       45\n",
      "0         4\n",
      "2         3\n",
      "10        2\n",
      "Name: category, dtype: int64\n"
     ]
    }
   ],
   "source": [
    "print(\"The value counts in the \\\"category\\\" column:\", customer_tickets['category'].value_counts())"
   ]
  },
  {
   "cell_type": "markdown",
   "id": "e8d54b44",
   "metadata": {},
   "source": [
    "Let's check the what categories do the tickets with missing bodies fall in. In order to see if there is a correlation between them. For example if 650 of the 712 tickets with missing bodies has the same category, it might indicate that tickets with missing bodies have a valid category."
   ]
  },
  {
   "cell_type": "code",
   "execution_count": null,
   "id": "f211dff7",
   "metadata": {},
   "outputs": [],
   "source": [
    "tickets_missing_bodies = for body in customer_tickets['body']"
   ]
  },
  {
   "cell_type": "markdown",
   "id": "92bb2dc2",
   "metadata": {},
   "source": [
    "No, there doesn't seem to be a relationship between the missing ``body`` values and zeroes in ``category``. Perhaps, '0' is a valid category for a ticket."
   ]
  },
  {
   "cell_type": "markdown",
   "id": "83aba878",
   "metadata": {},
   "source": [
    "Finally, we can start training BERT"
   ]
  },
  {
   "cell_type": "markdown",
   "id": "1a15c775",
   "metadata": {},
   "source": [
    "#### Bert expects the data in a certain form:\n",
    "- __Column 0:__ An ID for the row\n",
    "- __Column 1:__ The label for the row (should be an int — class labels: 0,1,2,3 etc) This column represents the class or category of the ticket (the \"target\" that the model is trying to predict).\n",
    "- __Column 2:__ A column of the same letter for all rows — this is a throw-away column that we need to include because BERT expects it.  It doesn't have any impact on the task.\n",
    "- __Column 3:__ The text examples we want to classify. This is the data that BERT will use to learn how to classify tickets.\n",
    "\n",
    "Also it expects the data to be in tsv file."
   ]
  },
  {
   "cell_type": "code",
   "execution_count": 118,
   "id": "8bf53666",
   "metadata": {},
   "outputs": [],
   "source": [
    "indices = range(valid_tickets['Consumer complaint narrative'].size)"
   ]
  },
  {
   "cell_type": "code",
   "execution_count": 127,
   "id": "7676f507",
   "metadata": {},
   "outputs": [],
   "source": [
    "# Getting product and complaint pairs\n",
    "product_complaint_pairs = valid_tickets[['Product', 'Consumer complaint narrative']]"
   ]
  },
  {
   "cell_type": "code",
   "execution_count": 135,
   "id": "03ce61c1",
   "metadata": {},
   "outputs": [
    {
     "data": {
      "text/html": [
       "<div>\n",
       "<style scoped>\n",
       "    .dataframe tbody tr th:only-of-type {\n",
       "        vertical-align: middle;\n",
       "    }\n",
       "\n",
       "    .dataframe tbody tr th {\n",
       "        vertical-align: top;\n",
       "    }\n",
       "\n",
       "    .dataframe thead th {\n",
       "        text-align: right;\n",
       "    }\n",
       "</style>\n",
       "<table border=\"1\" class=\"dataframe\">\n",
       "  <thead>\n",
       "    <tr style=\"text-align: right;\">\n",
       "      <th></th>\n",
       "      <th>Product</th>\n",
       "      <th>Consumer complaint narrative</th>\n",
       "    </tr>\n",
       "  </thead>\n",
       "  <tbody>\n",
       "    <tr>\n",
       "      <th>29904</th>\n",
       "      <td>Credit reporting, credit repair services, or o...</td>\n",
       "      <td>The Summer of XX/XX/2018 I was denied a mortga...</td>\n",
       "    </tr>\n",
       "    <tr>\n",
       "      <th>30629</th>\n",
       "      <td>Credit reporting, credit repair services, or o...</td>\n",
       "      <td>There are many mistakes appear in my report wi...</td>\n",
       "    </tr>\n",
       "    <tr>\n",
       "      <th>30735</th>\n",
       "      <td>Credit reporting, credit repair services, or o...</td>\n",
       "      <td>There are many mistakes appear in my report wi...</td>\n",
       "    </tr>\n",
       "    <tr>\n",
       "      <th>30795</th>\n",
       "      <td>Credit reporting, credit repair services, or o...</td>\n",
       "      <td>There are many mistakes appear in my report wi...</td>\n",
       "    </tr>\n",
       "    <tr>\n",
       "      <th>30807</th>\n",
       "      <td>Credit reporting, credit repair services, or o...</td>\n",
       "      <td>There are many mistakes appear in my report wi...</td>\n",
       "    </tr>\n",
       "  </tbody>\n",
       "</table>\n",
       "</div>"
      ],
      "text/plain": [
       "                                                 Product  \\\n",
       "29904  Credit reporting, credit repair services, or o...   \n",
       "30629  Credit reporting, credit repair services, or o...   \n",
       "30735  Credit reporting, credit repair services, or o...   \n",
       "30795  Credit reporting, credit repair services, or o...   \n",
       "30807  Credit reporting, credit repair services, or o...   \n",
       "\n",
       "                            Consumer complaint narrative  \n",
       "29904  The Summer of XX/XX/2018 I was denied a mortga...  \n",
       "30629  There are many mistakes appear in my report wi...  \n",
       "30735  There are many mistakes appear in my report wi...  \n",
       "30795  There are many mistakes appear in my report wi...  \n",
       "30807  There are many mistakes appear in my report wi...  "
      ]
     },
     "execution_count": 135,
     "metadata": {},
     "output_type": "execute_result"
    }
   ],
   "source": [
    "product_complaint_pairs.head()"
   ]
  },
  {
   "cell_type": "code",
   "execution_count": 147,
   "id": "a1f2b2d5",
   "metadata": {},
   "outputs": [],
   "source": [
    "unique_products = pd.DataFrame(valid_tickets['Product'].unique())"
   ]
  },
  {
   "cell_type": "code",
   "execution_count": 149,
   "id": "68640cad",
   "metadata": {},
   "outputs": [
    {
     "data": {
      "text/plain": [
       "RangeIndex(start=0, stop=18, step=1)"
      ]
     },
     "execution_count": 149,
     "metadata": {},
     "output_type": "execute_result"
    }
   ],
   "source": [
    "unique_products.index"
   ]
  },
  {
   "cell_type": "markdown",
   "id": "4ed8b185",
   "metadata": {},
   "source": [
    "Mapping the Products to integers."
   ]
  },
  {
   "cell_type": "code",
   "execution_count": 150,
   "id": "84b2dfa7",
   "metadata": {},
   "outputs": [],
   "source": [
    "from sklearn.preprocessing import LabelEncoder\n",
    "\n",
    "# Initializing a LabelEncoder\n",
    "le = LabelEncoder()\n",
    "\n",
    "# Fitting the encoder to the 'Product' data\n",
    "valid_tickets['Product_encoded'] = le.fit_transform(valid_tickets['Product'])"
   ]
  },
  {
   "cell_type": "code",
   "execution_count": 158,
   "id": "95c3f616",
   "metadata": {},
   "outputs": [],
   "source": [
    "data = {'ID': range(len(valid_tickets)), 'Product': valid_tickets['Product_encoded'], 'Throw away': 'a', 'Complaint': valid_tickets['Consumer complaint narrative']}"
   ]
  },
  {
   "cell_type": "code",
   "execution_count": 159,
   "id": "6045aa32",
   "metadata": {},
   "outputs": [],
   "source": [
    "df_final = pd.DataFrame(data=data)"
   ]
  },
  {
   "cell_type": "code",
   "execution_count": 161,
   "id": "9582170d",
   "metadata": {},
   "outputs": [
    {
     "data": {
      "text/html": [
       "<div>\n",
       "<style scoped>\n",
       "    .dataframe tbody tr th:only-of-type {\n",
       "        vertical-align: middle;\n",
       "    }\n",
       "\n",
       "    .dataframe tbody tr th {\n",
       "        vertical-align: top;\n",
       "    }\n",
       "\n",
       "    .dataframe thead th {\n",
       "        text-align: right;\n",
       "    }\n",
       "</style>\n",
       "<table border=\"1\" class=\"dataframe\">\n",
       "  <thead>\n",
       "    <tr style=\"text-align: right;\">\n",
       "      <th></th>\n",
       "      <th>ID</th>\n",
       "      <th>Product</th>\n",
       "      <th>Throw away</th>\n",
       "      <th>Complaint</th>\n",
       "    </tr>\n",
       "  </thead>\n",
       "  <tbody>\n",
       "    <tr>\n",
       "      <th>29904</th>\n",
       "      <td>0</td>\n",
       "      <td>6</td>\n",
       "      <td>a</td>\n",
       "      <td>The Summer of XX/XX/2018 I was denied a mortga...</td>\n",
       "    </tr>\n",
       "    <tr>\n",
       "      <th>30629</th>\n",
       "      <td>1</td>\n",
       "      <td>6</td>\n",
       "      <td>a</td>\n",
       "      <td>There are many mistakes appear in my report wi...</td>\n",
       "    </tr>\n",
       "    <tr>\n",
       "      <th>30735</th>\n",
       "      <td>2</td>\n",
       "      <td>6</td>\n",
       "      <td>a</td>\n",
       "      <td>There are many mistakes appear in my report wi...</td>\n",
       "    </tr>\n",
       "    <tr>\n",
       "      <th>30795</th>\n",
       "      <td>3</td>\n",
       "      <td>6</td>\n",
       "      <td>a</td>\n",
       "      <td>There are many mistakes appear in my report wi...</td>\n",
       "    </tr>\n",
       "    <tr>\n",
       "      <th>30807</th>\n",
       "      <td>4</td>\n",
       "      <td>6</td>\n",
       "      <td>a</td>\n",
       "      <td>There are many mistakes appear in my report wi...</td>\n",
       "    </tr>\n",
       "  </tbody>\n",
       "</table>\n",
       "</div>"
      ],
      "text/plain": [
       "       ID  Product Throw away  \\\n",
       "29904   0        6          a   \n",
       "30629   1        6          a   \n",
       "30735   2        6          a   \n",
       "30795   3        6          a   \n",
       "30807   4        6          a   \n",
       "\n",
       "                                               Complaint  \n",
       "29904  The Summer of XX/XX/2018 I was denied a mortga...  \n",
       "30629  There are many mistakes appear in my report wi...  \n",
       "30735  There are many mistakes appear in my report wi...  \n",
       "30795  There are many mistakes appear in my report wi...  \n",
       "30807  There are many mistakes appear in my report wi...  "
      ]
     },
     "execution_count": 161,
     "metadata": {},
     "output_type": "execute_result"
    }
   ],
   "source": [
    "df_final.head()"
   ]
  }
 ],
 "metadata": {
  "kernelspec": {
   "display_name": "Python 3 (ipykernel)",
   "language": "python",
   "name": "python3"
  },
  "language_info": {
   "codemirror_mode": {
    "name": "ipython",
    "version": 3
   },
   "file_extension": ".py",
   "mimetype": "text/x-python",
   "name": "python",
   "nbconvert_exporter": "python",
   "pygments_lexer": "ipython3",
   "version": "3.9.13"
  }
 },
 "nbformat": 4,
 "nbformat_minor": 5
}
