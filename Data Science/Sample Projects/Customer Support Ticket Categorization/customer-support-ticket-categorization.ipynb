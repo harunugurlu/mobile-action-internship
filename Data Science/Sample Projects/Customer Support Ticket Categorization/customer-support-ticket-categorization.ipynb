{
 "cells": [
  {
   "cell_type": "markdown",
   "id": "68c86d79",
   "metadata": {},
   "source": [
    "# This is a learning project. It aims to have hands on experience in NLP"
   ]
  },
  {
   "cell_type": "markdown",
   "id": "151f7294",
   "metadata": {},
   "source": [
    "### Trying to build a model that predicts which Product do the customer complaints concern\n",
    "### Will work with [Customer Complaint Database](https://www.kaggle.com/datasets/selener/consumer-complaint-database) from Kaggle"
   ]
  },
  {
   "cell_type": "code",
   "execution_count": 4,
   "id": "781fa906",
   "metadata": {},
   "outputs": [],
   "source": [
    "import pandas as pd\n",
    "import numpy as np\n",
    "import os\n",
    "import json"
   ]
  },
  {
   "cell_type": "code",
   "execution_count": 62,
   "id": "09c5cf72",
   "metadata": {},
   "outputs": [],
   "source": [
    "SPARSITY_THRESHOLD = 0.5\n",
    "\n",
    "def optimize(df: pd.DataFrame) -> pd.DataFrame:\n",
    "    float_types = {np.finfo(np.float16).max: np.float16, np.finfo(np.float32).max: np.float32}\n",
    "    int_types = {np.iinfo(np.int8).max: np.int8, np.iinfo(np.int16).max: np.int16, np.iinfo(np.int32).max: np.int32}\n",
    "    \n",
    "    for dtype in ['float64', 'int64']:\n",
    "        selected_columns = df.select_dtypes(include=[dtype])\n",
    "        max_values = selected_columns.max()\n",
    "        types = float_types if dtype == 'float64' else int_types\n",
    "\n",
    "        for col in selected_columns.columns:\n",
    "            if df[col].isna().sum() / len(df[col]) > SPARSITY_THRESHOLD:  # If mostly NaN values\n",
    "                df[col] = pd.arrays.SparseArray(df[col])\n",
    "            else:\n",
    "                max_val = max_values[col]\n",
    "                if not pd.isna(max_val):  # skip columns with only NaNs\n",
    "                    for max_type_val, type_val in types.items():\n",
    "                        if max_val <= max_type_val:\n",
    "                            df[col] = df[col].astype(type_val)\n",
    "                            break\n",
    "\n",
    "    for col in df.select_dtypes(include=['object']).columns:\n",
    "        if df[col].isna().sum() / len(df[col]) > SPARSITY_THRESHOLD:  # If mostly NaN values\n",
    "            df[col] = pd.arrays.SparseArray(df[col])\n",
    "        else:\n",
    "            try:\n",
    "                df[col] = pd.to_datetime(df[col])\n",
    "            except ValueError:\n",
    "                num_unique_values = len(df[col].unique())\n",
    "                num_total_values = len(df[col])\n",
    "                if num_unique_values / num_total_values < SPARSITY_THRESHOLD:\n",
    "                    df[col] = df[col].astype('category')\n",
    "\n",
    "    return df\n"
   ]
  },
  {
   "cell_type": "markdown",
   "id": "b09ee948",
   "metadata": {},
   "source": [
    "### The ``optimize()`` method is fetched from the notebook [memory-usage-optimization-poc.ipynb](https://github.com/harunugurlu/mobile-action-internship/blob/main/Data%20Science/PoC/Memory%20Usage%20Optimization/memory-usage-optimization-poc.ipynb)"
   ]
  },
  {
   "cell_type": "code",
   "execution_count": 26,
   "id": "3b56405b",
   "metadata": {},
   "outputs": [],
   "source": [
    "data_dir = 'data/rows.csv'"
   ]
  },
  {
   "cell_type": "code",
   "execution_count": 27,
   "id": "ac1254f5",
   "metadata": {},
   "outputs": [
    {
     "name": "stderr",
     "output_type": "stream",
     "text": [
      "C:\\Users\\harun\\AppData\\Local\\Temp\\ipykernel_12508\\291152379.py:1: DtypeWarning: Columns (4,5,6,11,16) have mixed types. Specify dtype option on import or set low_memory=False.\n",
      "  customer_tickets = pd.read_csv(data_dir)\n"
     ]
    }
   ],
   "source": [
    "customer_tickets = pd.read_csv(data_dir)"
   ]
  },
  {
   "cell_type": "code",
   "execution_count": 37,
   "id": "8ed34861",
   "metadata": {},
   "outputs": [
    {
     "data": {
      "text/html": [
       "<div>\n",
       "<style scoped>\n",
       "    .dataframe tbody tr th:only-of-type {\n",
       "        vertical-align: middle;\n",
       "    }\n",
       "\n",
       "    .dataframe tbody tr th {\n",
       "        vertical-align: top;\n",
       "    }\n",
       "\n",
       "    .dataframe thead th {\n",
       "        text-align: right;\n",
       "    }\n",
       "</style>\n",
       "<table border=\"1\" class=\"dataframe\">\n",
       "  <thead>\n",
       "    <tr style=\"text-align: right;\">\n",
       "      <th></th>\n",
       "      <th>Date received</th>\n",
       "      <th>Product</th>\n",
       "      <th>Sub-product</th>\n",
       "      <th>Issue</th>\n",
       "      <th>Sub-issue</th>\n",
       "      <th>Consumer complaint narrative</th>\n",
       "      <th>Company public response</th>\n",
       "      <th>Company</th>\n",
       "      <th>State</th>\n",
       "      <th>ZIP code</th>\n",
       "      <th>Tags</th>\n",
       "      <th>Consumer consent provided?</th>\n",
       "      <th>Submitted via</th>\n",
       "      <th>Date sent to company</th>\n",
       "      <th>Company response to consumer</th>\n",
       "      <th>Timely response?</th>\n",
       "      <th>Consumer disputed?</th>\n",
       "      <th>Complaint ID</th>\n",
       "    </tr>\n",
       "  </thead>\n",
       "  <tbody>\n",
       "    <tr>\n",
       "      <th>0</th>\n",
       "      <td>05/10/2019</td>\n",
       "      <td>Checking or savings account</td>\n",
       "      <td>Checking account</td>\n",
       "      <td>Managing an account</td>\n",
       "      <td>Problem using a debit or ATM card</td>\n",
       "      <td>NaN</td>\n",
       "      <td>NaN</td>\n",
       "      <td>NAVY FEDERAL CREDIT UNION</td>\n",
       "      <td>FL</td>\n",
       "      <td>328XX</td>\n",
       "      <td>Older American</td>\n",
       "      <td>NaN</td>\n",
       "      <td>Web</td>\n",
       "      <td>05/10/2019</td>\n",
       "      <td>In progress</td>\n",
       "      <td>Yes</td>\n",
       "      <td>NaN</td>\n",
       "      <td>3238275</td>\n",
       "    </tr>\n",
       "    <tr>\n",
       "      <th>1</th>\n",
       "      <td>05/10/2019</td>\n",
       "      <td>Checking or savings account</td>\n",
       "      <td>Other banking product or service</td>\n",
       "      <td>Managing an account</td>\n",
       "      <td>Deposits and withdrawals</td>\n",
       "      <td>NaN</td>\n",
       "      <td>NaN</td>\n",
       "      <td>BOEING EMPLOYEES CREDIT UNION</td>\n",
       "      <td>WA</td>\n",
       "      <td>98204</td>\n",
       "      <td>NaN</td>\n",
       "      <td>NaN</td>\n",
       "      <td>Referral</td>\n",
       "      <td>05/10/2019</td>\n",
       "      <td>Closed with explanation</td>\n",
       "      <td>Yes</td>\n",
       "      <td>NaN</td>\n",
       "      <td>3238228</td>\n",
       "    </tr>\n",
       "    <tr>\n",
       "      <th>2</th>\n",
       "      <td>05/10/2019</td>\n",
       "      <td>Debt collection</td>\n",
       "      <td>Payday loan debt</td>\n",
       "      <td>Communication tactics</td>\n",
       "      <td>Frequent or repeated calls</td>\n",
       "      <td>NaN</td>\n",
       "      <td>NaN</td>\n",
       "      <td>CURO Intermediate Holdings</td>\n",
       "      <td>TX</td>\n",
       "      <td>751XX</td>\n",
       "      <td>NaN</td>\n",
       "      <td>NaN</td>\n",
       "      <td>Web</td>\n",
       "      <td>05/10/2019</td>\n",
       "      <td>Closed with explanation</td>\n",
       "      <td>Yes</td>\n",
       "      <td>NaN</td>\n",
       "      <td>3237964</td>\n",
       "    </tr>\n",
       "    <tr>\n",
       "      <th>3</th>\n",
       "      <td>05/10/2019</td>\n",
       "      <td>Credit reporting, credit repair services, or o...</td>\n",
       "      <td>Credit reporting</td>\n",
       "      <td>Incorrect information on your report</td>\n",
       "      <td>Old information reappears or never goes away</td>\n",
       "      <td>NaN</td>\n",
       "      <td>NaN</td>\n",
       "      <td>Ad Astra Recovery Services Inc</td>\n",
       "      <td>LA</td>\n",
       "      <td>708XX</td>\n",
       "      <td>NaN</td>\n",
       "      <td>NaN</td>\n",
       "      <td>Web</td>\n",
       "      <td>05/10/2019</td>\n",
       "      <td>Closed with explanation</td>\n",
       "      <td>Yes</td>\n",
       "      <td>NaN</td>\n",
       "      <td>3238479</td>\n",
       "    </tr>\n",
       "    <tr>\n",
       "      <th>4</th>\n",
       "      <td>05/10/2019</td>\n",
       "      <td>Checking or savings account</td>\n",
       "      <td>Checking account</td>\n",
       "      <td>Managing an account</td>\n",
       "      <td>Banking errors</td>\n",
       "      <td>NaN</td>\n",
       "      <td>NaN</td>\n",
       "      <td>ALLY FINANCIAL INC.</td>\n",
       "      <td>AZ</td>\n",
       "      <td>85205</td>\n",
       "      <td>NaN</td>\n",
       "      <td>NaN</td>\n",
       "      <td>Postal mail</td>\n",
       "      <td>05/10/2019</td>\n",
       "      <td>In progress</td>\n",
       "      <td>Yes</td>\n",
       "      <td>NaN</td>\n",
       "      <td>3238460</td>\n",
       "    </tr>\n",
       "  </tbody>\n",
       "</table>\n",
       "</div>"
      ],
      "text/plain": [
       "  Date received                                            Product  \\\n",
       "0    05/10/2019                        Checking or savings account   \n",
       "1    05/10/2019                        Checking or savings account   \n",
       "2    05/10/2019                                    Debt collection   \n",
       "3    05/10/2019  Credit reporting, credit repair services, or o...   \n",
       "4    05/10/2019                        Checking or savings account   \n",
       "\n",
       "                        Sub-product                                 Issue  \\\n",
       "0                  Checking account                   Managing an account   \n",
       "1  Other banking product or service                   Managing an account   \n",
       "2                  Payday loan debt                 Communication tactics   \n",
       "3                  Credit reporting  Incorrect information on your report   \n",
       "4                  Checking account                   Managing an account   \n",
       "\n",
       "                                      Sub-issue Consumer complaint narrative  \\\n",
       "0             Problem using a debit or ATM card                          NaN   \n",
       "1                      Deposits and withdrawals                          NaN   \n",
       "2                    Frequent or repeated calls                          NaN   \n",
       "3  Old information reappears or never goes away                          NaN   \n",
       "4                                Banking errors                          NaN   \n",
       "\n",
       "  Company public response                         Company State ZIP code  \\\n",
       "0                     NaN       NAVY FEDERAL CREDIT UNION    FL    328XX   \n",
       "1                     NaN   BOEING EMPLOYEES CREDIT UNION    WA    98204   \n",
       "2                     NaN      CURO Intermediate Holdings    TX    751XX   \n",
       "3                     NaN  Ad Astra Recovery Services Inc    LA    708XX   \n",
       "4                     NaN             ALLY FINANCIAL INC.    AZ    85205   \n",
       "\n",
       "             Tags Consumer consent provided? Submitted via  \\\n",
       "0  Older American                        NaN           Web   \n",
       "1             NaN                        NaN      Referral   \n",
       "2             NaN                        NaN           Web   \n",
       "3             NaN                        NaN           Web   \n",
       "4             NaN                        NaN   Postal mail   \n",
       "\n",
       "  Date sent to company Company response to consumer Timely response?  \\\n",
       "0           05/10/2019                  In progress              Yes   \n",
       "1           05/10/2019      Closed with explanation              Yes   \n",
       "2           05/10/2019      Closed with explanation              Yes   \n",
       "3           05/10/2019      Closed with explanation              Yes   \n",
       "4           05/10/2019                  In progress              Yes   \n",
       "\n",
       "  Consumer disputed?  Complaint ID  \n",
       "0                NaN       3238275  \n",
       "1                NaN       3238228  \n",
       "2                NaN       3237964  \n",
       "3                NaN       3238479  \n",
       "4                NaN       3238460  "
      ]
     },
     "execution_count": 37,
     "metadata": {},
     "output_type": "execute_result"
    }
   ],
   "source": [
    "customer_tickets.head()"
   ]
  },
  {
   "cell_type": "markdown",
   "id": "d9f53df2",
   "metadata": {},
   "source": [
    "Will use the ``Consumer complaint narrative`` to predict the ``Product`` "
   ]
  },
  {
   "cell_type": "code",
   "execution_count": 67,
   "id": "de5b707f",
   "metadata": {},
   "outputs": [
    {
     "name": "stdout",
     "output_type": "stream",
     "text": [
      "(1282355, 18)\n"
     ]
    }
   ],
   "source": [
    "print(customer_tickets.shape)"
   ]
  },
  {
   "cell_type": "code",
   "execution_count": 63,
   "id": "94f030de",
   "metadata": {
    "scrolled": true
   },
   "outputs": [
    {
     "name": "stdout",
     "output_type": "stream",
     "text": [
      "<class 'pandas.core.frame.DataFrame'>\n",
      "RangeIndex: 1282355 entries, 0 to 1282354\n",
      "Data columns (total 18 columns):\n",
      " #   Column                        Non-Null Count    Dtype \n",
      "---  ------                        --------------    ----- \n",
      " 0   Date received                 1282355 non-null  object\n",
      " 1   Product                       1282355 non-null  object\n",
      " 2   Sub-product                   1047189 non-null  object\n",
      " 3   Issue                         1282355 non-null  object\n",
      " 4   Sub-issue                     751169 non-null   object\n",
      " 5   Consumer complaint narrative  383564 non-null   object\n",
      " 6   Company public response       449082 non-null   object\n",
      " 7   Company                       1282355 non-null  object\n",
      " 8   State                         1262955 non-null  object\n",
      " 9   ZIP code                      1167057 non-null  object\n",
      " 10  Tags                          175643 non-null   object\n",
      " 11  Consumer consent provided?    690654 non-null   object\n",
      " 12  Submitted via                 1282355 non-null  object\n",
      " 13  Date sent to company          1282355 non-null  object\n",
      " 14  Company response to consumer  1282348 non-null  object\n",
      " 15  Timely response?              1282355 non-null  object\n",
      " 16  Consumer disputed?            768501 non-null   object\n",
      " 17  Complaint ID                  1282355 non-null  int64 \n",
      "dtypes: int64(1), object(17)\n",
      "memory usage: 1.7 GB\n"
     ]
    }
   ],
   "source": [
    "customer_tickets.info(memory_usage=\"deep\")"
   ]
  },
  {
   "cell_type": "markdown",
   "id": "49965596",
   "metadata": {},
   "source": [
    "The dataset is very large (1m+ rows, 1.7gb memory usage), let's shrink it down"
   ]
  },
  {
   "cell_type": "code",
   "execution_count": 64,
   "id": "a081385a",
   "metadata": {},
   "outputs": [],
   "source": [
    "customer_tickets = optimize(customer_tickets)"
   ]
  },
  {
   "cell_type": "code",
   "execution_count": 103,
   "id": "586c97e0",
   "metadata": {
    "scrolled": true
   },
   "outputs": [
    {
     "name": "stdout",
     "output_type": "stream",
     "text": [
      "<class 'pandas.core.frame.DataFrame'>\n",
      "RangeIndex: 1282355 entries, 0 to 1282354\n",
      "Data columns (total 18 columns):\n",
      " #   Column                        Non-Null Count    Dtype              \n",
      "---  ------                        --------------    -----              \n",
      " 0   Date received                 1282355 non-null  datetime64[ns]     \n",
      " 1   Product                       1282355 non-null  category           \n",
      " 2   Sub-product                   1047189 non-null  category           \n",
      " 3   Issue                         1282355 non-null  category           \n",
      " 4   Sub-issue                     751169 non-null   category           \n",
      " 5   Consumer complaint narrative  383564 non-null   Sparse[object, nan]\n",
      " 6   Company public response       449082 non-null   Sparse[object, nan]\n",
      " 7   Company                       1282355 non-null  category           \n",
      " 8   State                         1262955 non-null  category           \n",
      " 9   ZIP code                      1167057 non-null  category           \n",
      " 10  Tags                          175643 non-null   Sparse[object, nan]\n",
      " 11  Consumer consent provided?    690654 non-null   category           \n",
      " 12  Submitted via                 1282355 non-null  category           \n",
      " 13  Date sent to company          1282355 non-null  datetime64[ns]     \n",
      " 14  Company response to consumer  1282348 non-null  category           \n",
      " 15  Timely response?              1282355 non-null  category           \n",
      " 16  Consumer disputed?            768501 non-null   category           \n",
      " 17  Complaint ID                  1282355 non-null  int32              \n",
      "dtypes: Sparse[object, nan](3), category(12), datetime64[ns](2), int32(1)\n",
      "memory usage: 605.1 MB\n"
     ]
    }
   ],
   "source": [
    "customer_tickets.info(memory_usage=\"deep\")"
   ]
  },
  {
   "cell_type": "markdown",
   "id": "aa6cc42d",
   "metadata": {},
   "source": [
    "Inspecting the features of interest (``Consumer complaint narrative`` and ``Product``)"
   ]
  },
  {
   "cell_type": "code",
   "execution_count": 68,
   "id": "d972c55b",
   "metadata": {},
   "outputs": [
    {
     "name": "stdout",
     "output_type": "stream",
     "text": [
      "Num of non na ticket descriptions 383564\n",
      "Num of unique products: 18\n"
     ]
    }
   ],
   "source": [
    "print(\"Num of non na ticket descriptions\", customer_tickets['Consumer complaint narrative'].count())\n",
    "print(\"Num of unique products:\", customer_tickets['Product'].nunique())"
   ]
  },
  {
   "cell_type": "markdown",
   "id": "e54d6cd5",
   "metadata": {},
   "source": [
    "We have over __1m__ rows but only less than half of them include a consumer complaint narrative. Lucky for us this number is still large (380k+) and adequate to use in __BERT__. Therefore, we can just drop them. But before that it is a good approach to inspect and to see if there is any correlation between the missing values of  ``Consumer complaint narrative`` and their respective ``Product``."
   ]
  },
  {
   "cell_type": "code",
   "execution_count": 82,
   "id": "12759e56",
   "metadata": {},
   "outputs": [],
   "source": [
    "# Getting the rows with NaN values for 'Consumer complaint narrative'\n",
    "invalid_tickets = customer_tickets[customer_tickets['Consumer complaint narrative'].isnull()]"
   ]
  },
  {
   "cell_type": "code",
   "execution_count": 73,
   "id": "69aaddd6",
   "metadata": {},
   "outputs": [
    {
     "data": {
      "text/plain": [
       "(898791, 18)"
      ]
     },
     "execution_count": 73,
     "metadata": {},
     "output_type": "execute_result"
    }
   ],
   "source": [
    "invalid_tickets.shape"
   ]
  },
  {
   "cell_type": "code",
   "execution_count": 92,
   "id": "c75e3f05",
   "metadata": {},
   "outputs": [],
   "source": [
    "products_complaints = invalid_tickets[['Product', 'Consumer complaint narrative']]"
   ]
  },
  {
   "cell_type": "code",
   "execution_count": 99,
   "id": "688b35ac",
   "metadata": {},
   "outputs": [
    {
     "data": {
      "text/plain": [
       "Mortgage                                                                        225111\n",
       "Debt collection                                                                 158163\n",
       "Credit reporting, credit repair services, or other personal consumer reports    133600\n",
       "Credit reporting                                                                108844\n",
       "Bank account or service                                                          71321\n",
       "Credit card                                                                      70352\n",
       "Student loan                                                                     29875\n",
       "Checking or savings account                                                      27760\n",
       "Credit card or prepaid card                                                      26274\n",
       "Consumer Loan                                                                    22131\n",
       "Vehicle loan or lease                                                             5632\n",
       "Money transfer, virtual currency, or money service                                4698\n",
       "Payday loan, title loan, or personal loan                                         4238\n",
       "Money transfers                                                                   3857\n",
       "Payday loan                                                                       3797\n",
       "Prepaid card                                                                      2369\n",
       "Other financial service                                                            767\n",
       "Virtual currency                                                                     2\n",
       "Name: Product, dtype: int64"
      ]
     },
     "execution_count": 99,
     "metadata": {},
     "output_type": "execute_result"
    }
   ],
   "source": [
    "products_complaints['Product'].value_counts()"
   ]
  },
  {
   "cell_type": "markdown",
   "id": "ee9631b9",
   "metadata": {},
   "source": [
    "Seems like there is no correlation between missing narrative values and product values. There is no large number of certain product. Actually, we should take into account other features such as ``Sub-product``, ``Issue``, ``Sub-issue`` etc. but we are ignoring them for ease."
   ]
  },
  {
   "cell_type": "markdown",
   "id": "2cbb21f9",
   "metadata": {},
   "source": [
    "Get the \"valid\" tickets with consumer complaint narratives."
   ]
  },
  {
   "cell_type": "code",
   "execution_count": 111,
   "id": "9ce6c76a",
   "metadata": {},
   "outputs": [],
   "source": [
    "valid_tickets = customer_tickets[customer_tickets['Consumer complaint narrative'].notna()].copy()"
   ]
  },
  {
   "cell_type": "code",
   "execution_count": 112,
   "id": "61cdea30",
   "metadata": {},
   "outputs": [
    {
     "name": "stdout",
     "output_type": "stream",
     "text": [
      "(383564, 18)\n"
     ]
    },
    {
     "data": {
      "text/html": [
       "<div>\n",
       "<style scoped>\n",
       "    .dataframe tbody tr th:only-of-type {\n",
       "        vertical-align: middle;\n",
       "    }\n",
       "\n",
       "    .dataframe tbody tr th {\n",
       "        vertical-align: top;\n",
       "    }\n",
       "\n",
       "    .dataframe thead th {\n",
       "        text-align: right;\n",
       "    }\n",
       "</style>\n",
       "<table border=\"1\" class=\"dataframe\">\n",
       "  <thead>\n",
       "    <tr style=\"text-align: right;\">\n",
       "      <th></th>\n",
       "      <th>Date received</th>\n",
       "      <th>Product</th>\n",
       "      <th>Sub-product</th>\n",
       "      <th>Issue</th>\n",
       "      <th>Sub-issue</th>\n",
       "      <th>Consumer complaint narrative</th>\n",
       "      <th>Company public response</th>\n",
       "      <th>Company</th>\n",
       "      <th>State</th>\n",
       "      <th>ZIP code</th>\n",
       "      <th>Tags</th>\n",
       "      <th>Consumer consent provided?</th>\n",
       "      <th>Submitted via</th>\n",
       "      <th>Date sent to company</th>\n",
       "      <th>Company response to consumer</th>\n",
       "      <th>Timely response?</th>\n",
       "      <th>Consumer disputed?</th>\n",
       "      <th>Complaint ID</th>\n",
       "    </tr>\n",
       "  </thead>\n",
       "  <tbody>\n",
       "    <tr>\n",
       "      <th>29904</th>\n",
       "      <td>2019-03-23</td>\n",
       "      <td>Credit reporting, credit repair services, or o...</td>\n",
       "      <td>Credit reporting</td>\n",
       "      <td>Incorrect information on your report</td>\n",
       "      <td>Account information incorrect</td>\n",
       "      <td>The Summer of XX/XX/2018 I was denied a mortga...</td>\n",
       "      <td>Company has responded to the consumer and the ...</td>\n",
       "      <td>TRANSUNION INTERMEDIATE HOLDINGS, INC.</td>\n",
       "      <td>IL</td>\n",
       "      <td>NaN</td>\n",
       "      <td>NaN</td>\n",
       "      <td>Consent provided</td>\n",
       "      <td>Web</td>\n",
       "      <td>2019-03-23</td>\n",
       "      <td>Closed with explanation</td>\n",
       "      <td>Yes</td>\n",
       "      <td>NaN</td>\n",
       "      <td>3189109</td>\n",
       "    </tr>\n",
       "    <tr>\n",
       "      <th>30629</th>\n",
       "      <td>2019-03-22</td>\n",
       "      <td>Credit reporting, credit repair services, or o...</td>\n",
       "      <td>Credit reporting</td>\n",
       "      <td>Incorrect information on your report</td>\n",
       "      <td>Account information incorrect</td>\n",
       "      <td>There are many mistakes appear in my report wi...</td>\n",
       "      <td>Company has responded to the consumer and the ...</td>\n",
       "      <td>TRANSUNION INTERMEDIATE HOLDINGS, INC.</td>\n",
       "      <td>VA</td>\n",
       "      <td>220XX</td>\n",
       "      <td>NaN</td>\n",
       "      <td>Consent provided</td>\n",
       "      <td>Web</td>\n",
       "      <td>2019-03-22</td>\n",
       "      <td>Closed with explanation</td>\n",
       "      <td>Yes</td>\n",
       "      <td>NaN</td>\n",
       "      <td>3187982</td>\n",
       "    </tr>\n",
       "    <tr>\n",
       "      <th>30735</th>\n",
       "      <td>2019-03-22</td>\n",
       "      <td>Credit reporting, credit repair services, or o...</td>\n",
       "      <td>Credit reporting</td>\n",
       "      <td>Incorrect information on your report</td>\n",
       "      <td>Account information incorrect</td>\n",
       "      <td>There are many mistakes appear in my report wi...</td>\n",
       "      <td>Company has responded to the consumer and the ...</td>\n",
       "      <td>TRANSUNION INTERMEDIATE HOLDINGS, INC.</td>\n",
       "      <td>TX</td>\n",
       "      <td>770XX</td>\n",
       "      <td>NaN</td>\n",
       "      <td>Consent provided</td>\n",
       "      <td>Web</td>\n",
       "      <td>2019-03-22</td>\n",
       "      <td>Closed with explanation</td>\n",
       "      <td>Yes</td>\n",
       "      <td>NaN</td>\n",
       "      <td>3187954</td>\n",
       "    </tr>\n",
       "    <tr>\n",
       "      <th>30795</th>\n",
       "      <td>2019-03-22</td>\n",
       "      <td>Credit reporting, credit repair services, or o...</td>\n",
       "      <td>Credit reporting</td>\n",
       "      <td>Incorrect information on your report</td>\n",
       "      <td>Account information incorrect</td>\n",
       "      <td>There are many mistakes appear in my report wi...</td>\n",
       "      <td>Company has responded to the consumer and the ...</td>\n",
       "      <td>TRANSUNION INTERMEDIATE HOLDINGS, INC.</td>\n",
       "      <td>TX</td>\n",
       "      <td>787XX</td>\n",
       "      <td>NaN</td>\n",
       "      <td>Consent provided</td>\n",
       "      <td>Web</td>\n",
       "      <td>2019-03-22</td>\n",
       "      <td>Closed with explanation</td>\n",
       "      <td>Yes</td>\n",
       "      <td>NaN</td>\n",
       "      <td>3188091</td>\n",
       "    </tr>\n",
       "    <tr>\n",
       "      <th>30807</th>\n",
       "      <td>2019-03-22</td>\n",
       "      <td>Credit reporting, credit repair services, or o...</td>\n",
       "      <td>Credit reporting</td>\n",
       "      <td>Incorrect information on your report</td>\n",
       "      <td>Account information incorrect</td>\n",
       "      <td>There are many mistakes appear in my report wi...</td>\n",
       "      <td>Company has responded to the consumer and the ...</td>\n",
       "      <td>TRANSUNION INTERMEDIATE HOLDINGS, INC.</td>\n",
       "      <td>CA</td>\n",
       "      <td>951XX</td>\n",
       "      <td>NaN</td>\n",
       "      <td>Consent provided</td>\n",
       "      <td>Web</td>\n",
       "      <td>2019-03-22</td>\n",
       "      <td>Closed with explanation</td>\n",
       "      <td>Yes</td>\n",
       "      <td>NaN</td>\n",
       "      <td>3188119</td>\n",
       "    </tr>\n",
       "  </tbody>\n",
       "</table>\n",
       "</div>"
      ],
      "text/plain": [
       "      Date received                                            Product  \\\n",
       "29904    2019-03-23  Credit reporting, credit repair services, or o...   \n",
       "30629    2019-03-22  Credit reporting, credit repair services, or o...   \n",
       "30735    2019-03-22  Credit reporting, credit repair services, or o...   \n",
       "30795    2019-03-22  Credit reporting, credit repair services, or o...   \n",
       "30807    2019-03-22  Credit reporting, credit repair services, or o...   \n",
       "\n",
       "            Sub-product                                 Issue  \\\n",
       "29904  Credit reporting  Incorrect information on your report   \n",
       "30629  Credit reporting  Incorrect information on your report   \n",
       "30735  Credit reporting  Incorrect information on your report   \n",
       "30795  Credit reporting  Incorrect information on your report   \n",
       "30807  Credit reporting  Incorrect information on your report   \n",
       "\n",
       "                           Sub-issue  \\\n",
       "29904  Account information incorrect   \n",
       "30629  Account information incorrect   \n",
       "30735  Account information incorrect   \n",
       "30795  Account information incorrect   \n",
       "30807  Account information incorrect   \n",
       "\n",
       "                            Consumer complaint narrative  \\\n",
       "29904  The Summer of XX/XX/2018 I was denied a mortga...   \n",
       "30629  There are many mistakes appear in my report wi...   \n",
       "30735  There are many mistakes appear in my report wi...   \n",
       "30795  There are many mistakes appear in my report wi...   \n",
       "30807  There are many mistakes appear in my report wi...   \n",
       "\n",
       "                                 Company public response  \\\n",
       "29904  Company has responded to the consumer and the ...   \n",
       "30629  Company has responded to the consumer and the ...   \n",
       "30735  Company has responded to the consumer and the ...   \n",
       "30795  Company has responded to the consumer and the ...   \n",
       "30807  Company has responded to the consumer and the ...   \n",
       "\n",
       "                                      Company State ZIP code Tags  \\\n",
       "29904  TRANSUNION INTERMEDIATE HOLDINGS, INC.    IL      NaN  NaN   \n",
       "30629  TRANSUNION INTERMEDIATE HOLDINGS, INC.    VA    220XX  NaN   \n",
       "30735  TRANSUNION INTERMEDIATE HOLDINGS, INC.    TX    770XX  NaN   \n",
       "30795  TRANSUNION INTERMEDIATE HOLDINGS, INC.    TX    787XX  NaN   \n",
       "30807  TRANSUNION INTERMEDIATE HOLDINGS, INC.    CA    951XX  NaN   \n",
       "\n",
       "      Consumer consent provided? Submitted via Date sent to company  \\\n",
       "29904           Consent provided           Web           2019-03-23   \n",
       "30629           Consent provided           Web           2019-03-22   \n",
       "30735           Consent provided           Web           2019-03-22   \n",
       "30795           Consent provided           Web           2019-03-22   \n",
       "30807           Consent provided           Web           2019-03-22   \n",
       "\n",
       "      Company response to consumer Timely response? Consumer disputed?  \\\n",
       "29904      Closed with explanation              Yes                NaN   \n",
       "30629      Closed with explanation              Yes                NaN   \n",
       "30735      Closed with explanation              Yes                NaN   \n",
       "30795      Closed with explanation              Yes                NaN   \n",
       "30807      Closed with explanation              Yes                NaN   \n",
       "\n",
       "       Complaint ID  \n",
       "29904       3189109  \n",
       "30629       3187982  \n",
       "30735       3187954  \n",
       "30795       3188091  \n",
       "30807       3188119  "
      ]
     },
     "execution_count": 112,
     "metadata": {},
     "output_type": "execute_result"
    }
   ],
   "source": [
    "print(valid_tickets.shape)\n",
    "valid_tickets.head()"
   ]
  },
  {
   "cell_type": "code",
   "execution_count": 113,
   "id": "7589b1e3",
   "metadata": {},
   "outputs": [
    {
     "name": "stdout",
     "output_type": "stream",
     "text": [
      "<class 'pandas.core.frame.DataFrame'>\n",
      "Int64Index: 383564 entries, 29904 to 912553\n",
      "Data columns (total 18 columns):\n",
      " #   Column                        Non-Null Count   Dtype              \n",
      "---  ------                        --------------   -----              \n",
      " 0   Date received                 383564 non-null  datetime64[ns]     \n",
      " 1   Product                       383564 non-null  category           \n",
      " 2   Sub-product                   331391 non-null  category           \n",
      " 3   Issue                         383564 non-null  category           \n",
      " 4   Sub-issue                     269891 non-null  category           \n",
      " 5   Consumer complaint narrative  383564 non-null  Sparse[object, nan]\n",
      " 6   Company public response       182680 non-null  Sparse[object, nan]\n",
      " 7   Company                       383564 non-null  category           \n",
      " 8   State                         382178 non-null  category           \n",
      " 9   ZIP code                      294787 non-null  category           \n",
      " 10  Tags                          66245 non-null   Sparse[object, nan]\n",
      " 11  Consumer consent provided?    383564 non-null  category           \n",
      " 12  Submitted via                 383564 non-null  category           \n",
      " 13  Date sent to company          383564 non-null  datetime64[ns]     \n",
      " 14  Company response to consumer  383560 non-null  category           \n",
      " 15  Timely response?              383564 non-null  category           \n",
      " 16  Consumer disputed?            164076 non-null  category           \n",
      " 17  Complaint ID                  383564 non-null  int32              \n",
      "dtypes: Sparse[object, nan](3), category(12), datetime64[ns](2), int32(1)\n",
      "memory usage: 479.0 MB\n"
     ]
    }
   ],
   "source": [
    "valid_tickets.info(memory_usage=\"deep\")"
   ]
  },
  {
   "cell_type": "markdown",
   "id": "c47338a5",
   "metadata": {},
   "source": [
    "We have converted the dtype of the ``Consumer complaint narrative`` to Sparse array because it had lots of missing values. But in our ``valid_tickets`` DataFrame, we no longer have missing values of ``Consumer complaint narrative``. Therefore, we should cast it back to dense array."
   ]
  },
  {
   "cell_type": "code",
   "execution_count": 114,
   "id": "c1b520a2",
   "metadata": {},
   "outputs": [],
   "source": [
    "valid_tickets.loc[:, 'Consumer complaint narrative'] = valid_tickets['Consumer complaint narrative'].sparse.to_dense()"
   ]
  },
  {
   "cell_type": "markdown",
   "id": "5b93785f",
   "metadata": {},
   "source": [
    "Should check the other Sparse array columns as well."
   ]
  },
  {
   "cell_type": "code",
   "execution_count": 179,
   "id": "dfe1c320",
   "metadata": {},
   "outputs": [
    {
     "name": "stdout",
     "output_type": "stream",
     "text": [
      "<class 'pandas.core.frame.DataFrame'>\n",
      "Int64Index: 383564 entries, 29904 to 912553\n",
      "Data columns (total 19 columns):\n",
      " #   Column                        Non-Null Count   Dtype              \n",
      "---  ------                        --------------   -----              \n",
      " 0   Date received                 383564 non-null  datetime64[ns]     \n",
      " 1   Product                       383564 non-null  category           \n",
      " 2   Sub-product                   331391 non-null  category           \n",
      " 3   Issue                         383564 non-null  category           \n",
      " 4   Sub-issue                     269891 non-null  category           \n",
      " 5   Consumer complaint narrative  383564 non-null  object             \n",
      " 6   Company public response       182680 non-null  Sparse[object, nan]\n",
      " 7   Company                       383564 non-null  category           \n",
      " 8   State                         382178 non-null  category           \n",
      " 9   ZIP code                      294787 non-null  category           \n",
      " 10  Tags                          66245 non-null   Sparse[object, nan]\n",
      " 11  Consumer consent provided?    383564 non-null  category           \n",
      " 12  Submitted via                 383564 non-null  category           \n",
      " 13  Date sent to company          383564 non-null  datetime64[ns]     \n",
      " 14  Company response to consumer  383560 non-null  category           \n",
      " 15  Timely response?              383564 non-null  category           \n",
      " 16  Consumer disputed?            164076 non-null  category           \n",
      " 17  Complaint ID                  383564 non-null  int32              \n",
      " 18  Product_encoded               383564 non-null  int32              \n",
      "dtypes: Sparse[object, nan](2), category(12), datetime64[ns](2), int32(2), object(1)\n",
      "memory usage: 32.3+ MB\n"
     ]
    }
   ],
   "source": [
    "valid_tickets.info()"
   ]
  },
  {
   "cell_type": "markdown",
   "id": "b4700c37",
   "metadata": {},
   "source": [
    "Finally, we can start training BERT"
   ]
  },
  {
   "cell_type": "markdown",
   "id": "85f9eb41",
   "metadata": {},
   "source": [
    "#### Bert expects the data in a certain form:\n",
    "- __Column 0:__ An ID for the row\n",
    "- __Column 1:__ The label for the row (should be an int — class labels: 0,1,2,3 etc) This column represents the class or category of the ticket (the \"target\" that the model is trying to predict).\n",
    "- __Column 2:__ A column of the same letter for all rows — this is a throw-away column that we need to include because BERT expects it.  It doesn't have any impact on the task.\n",
    "- __Column 3:__ The text examples we want to classify. This is the data that BERT will use to learn how to classify tickets.\n",
    "\n",
    "Also it expects the data to be in tsv file."
   ]
  },
  {
   "cell_type": "code",
   "execution_count": 118,
   "id": "e2f906cc",
   "metadata": {},
   "outputs": [],
   "source": [
    "indices = range(valid_tickets['Consumer complaint narrative'].size)"
   ]
  },
  {
   "cell_type": "code",
   "execution_count": 127,
   "id": "54e470dc",
   "metadata": {},
   "outputs": [],
   "source": [
    "# Getting product and complaint pairs\n",
    "product_complaint_pairs = valid_tickets[['Product', 'Consumer complaint narrative']]"
   ]
  },
  {
   "cell_type": "code",
   "execution_count": 135,
   "id": "78e7108c",
   "metadata": {},
   "outputs": [
    {
     "data": {
      "text/html": [
       "<div>\n",
       "<style scoped>\n",
       "    .dataframe tbody tr th:only-of-type {\n",
       "        vertical-align: middle;\n",
       "    }\n",
       "\n",
       "    .dataframe tbody tr th {\n",
       "        vertical-align: top;\n",
       "    }\n",
       "\n",
       "    .dataframe thead th {\n",
       "        text-align: right;\n",
       "    }\n",
       "</style>\n",
       "<table border=\"1\" class=\"dataframe\">\n",
       "  <thead>\n",
       "    <tr style=\"text-align: right;\">\n",
       "      <th></th>\n",
       "      <th>Product</th>\n",
       "      <th>Consumer complaint narrative</th>\n",
       "    </tr>\n",
       "  </thead>\n",
       "  <tbody>\n",
       "    <tr>\n",
       "      <th>29904</th>\n",
       "      <td>Credit reporting, credit repair services, or o...</td>\n",
       "      <td>The Summer of XX/XX/2018 I was denied a mortga...</td>\n",
       "    </tr>\n",
       "    <tr>\n",
       "      <th>30629</th>\n",
       "      <td>Credit reporting, credit repair services, or o...</td>\n",
       "      <td>There are many mistakes appear in my report wi...</td>\n",
       "    </tr>\n",
       "    <tr>\n",
       "      <th>30735</th>\n",
       "      <td>Credit reporting, credit repair services, or o...</td>\n",
       "      <td>There are many mistakes appear in my report wi...</td>\n",
       "    </tr>\n",
       "    <tr>\n",
       "      <th>30795</th>\n",
       "      <td>Credit reporting, credit repair services, or o...</td>\n",
       "      <td>There are many mistakes appear in my report wi...</td>\n",
       "    </tr>\n",
       "    <tr>\n",
       "      <th>30807</th>\n",
       "      <td>Credit reporting, credit repair services, or o...</td>\n",
       "      <td>There are many mistakes appear in my report wi...</td>\n",
       "    </tr>\n",
       "  </tbody>\n",
       "</table>\n",
       "</div>"
      ],
      "text/plain": [
       "                                                 Product  \\\n",
       "29904  Credit reporting, credit repair services, or o...   \n",
       "30629  Credit reporting, credit repair services, or o...   \n",
       "30735  Credit reporting, credit repair services, or o...   \n",
       "30795  Credit reporting, credit repair services, or o...   \n",
       "30807  Credit reporting, credit repair services, or o...   \n",
       "\n",
       "                            Consumer complaint narrative  \n",
       "29904  The Summer of XX/XX/2018 I was denied a mortga...  \n",
       "30629  There are many mistakes appear in my report wi...  \n",
       "30735  There are many mistakes appear in my report wi...  \n",
       "30795  There are many mistakes appear in my report wi...  \n",
       "30807  There are many mistakes appear in my report wi...  "
      ]
     },
     "execution_count": 135,
     "metadata": {},
     "output_type": "execute_result"
    }
   ],
   "source": [
    "product_complaint_pairs.head()"
   ]
  },
  {
   "cell_type": "markdown",
   "id": "4637f47f",
   "metadata": {},
   "source": [
    "Mapping the Products to integers."
   ]
  },
  {
   "cell_type": "code",
   "execution_count": 150,
   "id": "07dc146b",
   "metadata": {},
   "outputs": [],
   "source": [
    "from sklearn.preprocessing import LabelEncoder\n",
    "\n",
    "# Initializing a LabelEncoder\n",
    "le = LabelEncoder()\n",
    "\n",
    "# Fitting the encoder to the 'Product' data\n",
    "valid_tickets['Product_encoded'] = le.fit_transform(valid_tickets['Product'])"
   ]
  },
  {
   "cell_type": "code",
   "execution_count": 158,
   "id": "7f61fd9b",
   "metadata": {},
   "outputs": [],
   "source": [
    "data = {'ID': range(len(valid_tickets)), 'Product': valid_tickets['Product_encoded'], 'Throw away': 'a', 'Complaint': valid_tickets['Consumer complaint narrative']}"
   ]
  },
  {
   "cell_type": "code",
   "execution_count": 166,
   "id": "543f99b6",
   "metadata": {},
   "outputs": [],
   "source": [
    "df_bert = pd.DataFrame(data=data)"
   ]
  },
  {
   "cell_type": "code",
   "execution_count": 167,
   "id": "319c6d59",
   "metadata": {},
   "outputs": [
    {
     "data": {
      "text/html": [
       "<div>\n",
       "<style scoped>\n",
       "    .dataframe tbody tr th:only-of-type {\n",
       "        vertical-align: middle;\n",
       "    }\n",
       "\n",
       "    .dataframe tbody tr th {\n",
       "        vertical-align: top;\n",
       "    }\n",
       "\n",
       "    .dataframe thead th {\n",
       "        text-align: right;\n",
       "    }\n",
       "</style>\n",
       "<table border=\"1\" class=\"dataframe\">\n",
       "  <thead>\n",
       "    <tr style=\"text-align: right;\">\n",
       "      <th></th>\n",
       "      <th>ID</th>\n",
       "      <th>Product</th>\n",
       "      <th>Throw away</th>\n",
       "      <th>Complaint</th>\n",
       "    </tr>\n",
       "  </thead>\n",
       "  <tbody>\n",
       "    <tr>\n",
       "      <th>29904</th>\n",
       "      <td>0</td>\n",
       "      <td>6</td>\n",
       "      <td>a</td>\n",
       "      <td>The Summer of XX/XX/2018 I was denied a mortga...</td>\n",
       "    </tr>\n",
       "    <tr>\n",
       "      <th>30629</th>\n",
       "      <td>1</td>\n",
       "      <td>6</td>\n",
       "      <td>a</td>\n",
       "      <td>There are many mistakes appear in my report wi...</td>\n",
       "    </tr>\n",
       "    <tr>\n",
       "      <th>30735</th>\n",
       "      <td>2</td>\n",
       "      <td>6</td>\n",
       "      <td>a</td>\n",
       "      <td>There are many mistakes appear in my report wi...</td>\n",
       "    </tr>\n",
       "    <tr>\n",
       "      <th>30795</th>\n",
       "      <td>3</td>\n",
       "      <td>6</td>\n",
       "      <td>a</td>\n",
       "      <td>There are many mistakes appear in my report wi...</td>\n",
       "    </tr>\n",
       "    <tr>\n",
       "      <th>30807</th>\n",
       "      <td>4</td>\n",
       "      <td>6</td>\n",
       "      <td>a</td>\n",
       "      <td>There are many mistakes appear in my report wi...</td>\n",
       "    </tr>\n",
       "  </tbody>\n",
       "</table>\n",
       "</div>"
      ],
      "text/plain": [
       "       ID  Product Throw away  \\\n",
       "29904   0        6          a   \n",
       "30629   1        6          a   \n",
       "30735   2        6          a   \n",
       "30795   3        6          a   \n",
       "30807   4        6          a   \n",
       "\n",
       "                                               Complaint  \n",
       "29904  The Summer of XX/XX/2018 I was denied a mortga...  \n",
       "30629  There are many mistakes appear in my report wi...  \n",
       "30735  There are many mistakes appear in my report wi...  \n",
       "30795  There are many mistakes appear in my report wi...  \n",
       "30807  There are many mistakes appear in my report wi...  "
      ]
     },
     "execution_count": 167,
     "metadata": {},
     "output_type": "execute_result"
    }
   ],
   "source": [
    "df_bert.head()"
   ]
  },
  {
   "cell_type": "markdown",
   "id": "00b3f537",
   "metadata": {},
   "source": [
    "We are going to need to create three separate files, called ``train.tsv`` ``dev.tsv`` and ``test.tsv``.  In ``train.tsv`` and ``dev.tsv`` we will have all the 4 columns while in ``test.tsv`` we will only keep 2 of the columns, i.e., id for the row and the text we want to classify."
   ]
  },
  {
   "cell_type": "code",
   "execution_count": 172,
   "id": "cadae704",
   "metadata": {},
   "outputs": [],
   "source": [
    "# 80% for train and 20% for test\n",
    "from sklearn.model_selection import train_test_split\n",
    "\n",
    "df_bert_train, df_bert_dev = train_test_split(df_bert, test_size=0.2)"
   ]
  },
  {
   "cell_type": "code",
   "execution_count": 188,
   "id": "30104720",
   "metadata": {},
   "outputs": [
    {
     "name": "stdout",
     "output_type": "stream",
     "text": [
      "(306851, 4)\n"
     ]
    },
    {
     "data": {
      "text/html": [
       "<div>\n",
       "<style scoped>\n",
       "    .dataframe tbody tr th:only-of-type {\n",
       "        vertical-align: middle;\n",
       "    }\n",
       "\n",
       "    .dataframe tbody tr th {\n",
       "        vertical-align: top;\n",
       "    }\n",
       "\n",
       "    .dataframe thead th {\n",
       "        text-align: right;\n",
       "    }\n",
       "</style>\n",
       "<table border=\"1\" class=\"dataframe\">\n",
       "  <thead>\n",
       "    <tr style=\"text-align: right;\">\n",
       "      <th></th>\n",
       "      <th>ID</th>\n",
       "      <th>Product</th>\n",
       "      <th>Throw away</th>\n",
       "      <th>Complaint</th>\n",
       "    </tr>\n",
       "  </thead>\n",
       "  <tbody>\n",
       "    <tr>\n",
       "      <th>414804</th>\n",
       "      <td>170289</td>\n",
       "      <td>1</td>\n",
       "      <td>a</td>\n",
       "      <td>To whom it may concern : I would like to file ...</td>\n",
       "    </tr>\n",
       "    <tr>\n",
       "      <th>825311</th>\n",
       "      <td>348209</td>\n",
       "      <td>15</td>\n",
       "      <td>a</td>\n",
       "      <td>I have XXXX loans that are being serviced by A...</td>\n",
       "    </tr>\n",
       "    <tr>\n",
       "      <th>252948</th>\n",
       "      <td>93654</td>\n",
       "      <td>7</td>\n",
       "      <td>a</td>\n",
       "      <td>The caller from # XXXX stated he was with the ...</td>\n",
       "    </tr>\n",
       "    <tr>\n",
       "      <th>305221</th>\n",
       "      <td>117452</td>\n",
       "      <td>4</td>\n",
       "      <td>a</td>\n",
       "      <td>I applied for a new Citi AAdvantage Platinum S...</td>\n",
       "    </tr>\n",
       "    <tr>\n",
       "      <th>815832</th>\n",
       "      <td>344360</td>\n",
       "      <td>10</td>\n",
       "      <td>a</td>\n",
       "      <td>The borrower submitted a modification applicat...</td>\n",
       "    </tr>\n",
       "  </tbody>\n",
       "</table>\n",
       "</div>"
      ],
      "text/plain": [
       "            ID  Product Throw away  \\\n",
       "414804  170289        1          a   \n",
       "825311  348209       15          a   \n",
       "252948   93654        7          a   \n",
       "305221  117452        4          a   \n",
       "815832  344360       10          a   \n",
       "\n",
       "                                                Complaint  \n",
       "414804  To whom it may concern : I would like to file ...  \n",
       "825311  I have XXXX loans that are being serviced by A...  \n",
       "252948  The caller from # XXXX stated he was with the ...  \n",
       "305221  I applied for a new Citi AAdvantage Platinum S...  \n",
       "815832  The borrower submitted a modification applicat...  "
      ]
     },
     "execution_count": 188,
     "metadata": {},
     "output_type": "execute_result"
    }
   ],
   "source": [
    "print(df_bert_train.shape)\n",
    "df_bert_train.head()"
   ]
  },
  {
   "cell_type": "code",
   "execution_count": 187,
   "id": "184191f8",
   "metadata": {},
   "outputs": [
    {
     "name": "stdout",
     "output_type": "stream",
     "text": [
      "(76713, 4)\n"
     ]
    },
    {
     "data": {
      "text/html": [
       "<div>\n",
       "<style scoped>\n",
       "    .dataframe tbody tr th:only-of-type {\n",
       "        vertical-align: middle;\n",
       "    }\n",
       "\n",
       "    .dataframe tbody tr th {\n",
       "        vertical-align: top;\n",
       "    }\n",
       "\n",
       "    .dataframe thead th {\n",
       "        text-align: right;\n",
       "    }\n",
       "</style>\n",
       "<table border=\"1\" class=\"dataframe\">\n",
       "  <thead>\n",
       "    <tr style=\"text-align: right;\">\n",
       "      <th></th>\n",
       "      <th>ID</th>\n",
       "      <th>Product</th>\n",
       "      <th>Throw away</th>\n",
       "      <th>Complaint</th>\n",
       "    </tr>\n",
       "  </thead>\n",
       "  <tbody>\n",
       "    <tr>\n",
       "      <th>625062</th>\n",
       "      <td>267153</td>\n",
       "      <td>5</td>\n",
       "      <td>a</td>\n",
       "      <td>On a few separate occasions I have disputed wi...</td>\n",
       "    </tr>\n",
       "    <tr>\n",
       "      <th>374833</th>\n",
       "      <td>151197</td>\n",
       "      <td>6</td>\n",
       "      <td>a</td>\n",
       "      <td>i am not sure of the balances but before i tur...</td>\n",
       "    </tr>\n",
       "    <tr>\n",
       "      <th>261384</th>\n",
       "      <td>97510</td>\n",
       "      <td>6</td>\n",
       "      <td>a</td>\n",
       "      <td>This complaint is based upon not receiving a r...</td>\n",
       "    </tr>\n",
       "    <tr>\n",
       "      <th>60654</th>\n",
       "      <td>6685</td>\n",
       "      <td>4</td>\n",
       "      <td>a</td>\n",
       "      <td>I have contacted Nordstrom multiple times pert...</td>\n",
       "    </tr>\n",
       "    <tr>\n",
       "      <th>608273</th>\n",
       "      <td>260294</td>\n",
       "      <td>5</td>\n",
       "      <td>a</td>\n",
       "      <td>I have tried several times, to have informatio...</td>\n",
       "    </tr>\n",
       "  </tbody>\n",
       "</table>\n",
       "</div>"
      ],
      "text/plain": [
       "            ID  Product Throw away  \\\n",
       "625062  267153        5          a   \n",
       "374833  151197        6          a   \n",
       "261384   97510        6          a   \n",
       "60654     6685        4          a   \n",
       "608273  260294        5          a   \n",
       "\n",
       "                                                Complaint  \n",
       "625062  On a few separate occasions I have disputed wi...  \n",
       "374833  i am not sure of the balances but before i tur...  \n",
       "261384  This complaint is based upon not receiving a r...  \n",
       "60654   I have contacted Nordstrom multiple times pert...  \n",
       "608273  I have tried several times, to have informatio...  "
      ]
     },
     "execution_count": 187,
     "metadata": {},
     "output_type": "execute_result"
    }
   ],
   "source": [
    "print(df_bert_dev.shape)\n",
    "df_bert_dev.head()"
   ]
  },
  {
   "cell_type": "code",
   "execution_count": 184,
   "id": "20c1ec65",
   "metadata": {},
   "outputs": [],
   "source": [
    "# Creating the test dataframe for BERT\n",
    "df_bert_test = pd.DataFrame({\n",
    "    'ID': df_bert['ID'],\n",
    "    'Complaint': df_bert['Complaint']\n",
    "})"
   ]
  },
  {
   "cell_type": "code",
   "execution_count": 186,
   "id": "44ceb356",
   "metadata": {},
   "outputs": [
    {
     "data": {
      "text/html": [
       "<div>\n",
       "<style scoped>\n",
       "    .dataframe tbody tr th:only-of-type {\n",
       "        vertical-align: middle;\n",
       "    }\n",
       "\n",
       "    .dataframe tbody tr th {\n",
       "        vertical-align: top;\n",
       "    }\n",
       "\n",
       "    .dataframe thead th {\n",
       "        text-align: right;\n",
       "    }\n",
       "</style>\n",
       "<table border=\"1\" class=\"dataframe\">\n",
       "  <thead>\n",
       "    <tr style=\"text-align: right;\">\n",
       "      <th></th>\n",
       "      <th>ID</th>\n",
       "      <th>Complaint</th>\n",
       "    </tr>\n",
       "  </thead>\n",
       "  <tbody>\n",
       "    <tr>\n",
       "      <th>29904</th>\n",
       "      <td>0</td>\n",
       "      <td>The Summer of XX/XX/2018 I was denied a mortga...</td>\n",
       "    </tr>\n",
       "    <tr>\n",
       "      <th>30629</th>\n",
       "      <td>1</td>\n",
       "      <td>There are many mistakes appear in my report wi...</td>\n",
       "    </tr>\n",
       "    <tr>\n",
       "      <th>30735</th>\n",
       "      <td>2</td>\n",
       "      <td>There are many mistakes appear in my report wi...</td>\n",
       "    </tr>\n",
       "    <tr>\n",
       "      <th>30795</th>\n",
       "      <td>3</td>\n",
       "      <td>There are many mistakes appear in my report wi...</td>\n",
       "    </tr>\n",
       "    <tr>\n",
       "      <th>30807</th>\n",
       "      <td>4</td>\n",
       "      <td>There are many mistakes appear in my report wi...</td>\n",
       "    </tr>\n",
       "  </tbody>\n",
       "</table>\n",
       "</div>"
      ],
      "text/plain": [
       "       ID                                          Complaint\n",
       "29904   0  The Summer of XX/XX/2018 I was denied a mortga...\n",
       "30629   1  There are many mistakes appear in my report wi...\n",
       "30735   2  There are many mistakes appear in my report wi...\n",
       "30795   3  There are many mistakes appear in my report wi...\n",
       "30807   4  There are many mistakes appear in my report wi..."
      ]
     },
     "execution_count": 186,
     "metadata": {},
     "output_type": "execute_result"
    }
   ],
   "source": [
    "df_bert_test.head()"
   ]
  },
  {
   "cell_type": "code",
   "execution_count": 189,
   "id": "3c617407",
   "metadata": {},
   "outputs": [],
   "source": [
    "# Saving dataframes to .tsv format as required by BERT\n",
    "df_bert_train.to_csv('data/train.tsv', sep='\\t', index=False, header=False)\n",
    "df_bert_dev.to_csv('data/dev.tsv', sep='\\t', index=False, header=False)\n",
    "df_bert_test.to_csv('data/test.tsv', sep='\\t', index=False, header=False)"
   ]
  }
 ],
 "metadata": {
  "kernelspec": {
   "display_name": "Python 3 (ipykernel)",
   "language": "python",
   "name": "python3"
  },
  "language_info": {
   "codemirror_mode": {
    "name": "ipython",
    "version": 3
   },
   "file_extension": ".py",
   "mimetype": "text/x-python",
   "name": "python",
   "nbconvert_exporter": "python",
   "pygments_lexer": "ipython3",
   "version": "3.9.13"
  }
 },
 "nbformat": 4,
 "nbformat_minor": 5
}
