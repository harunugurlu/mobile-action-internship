{
 "cells": [
  {
   "cell_type": "markdown",
   "id": "68c86d79",
   "metadata": {},
   "source": [
    "# This is a learning project. It aims to have hands on experience in NLP"
   ]
  },
  {
   "cell_type": "markdown",
   "id": "151f7294",
   "metadata": {},
   "source": [
    "### Trying to build a model that predicts which Product do the customer complaints concern\n",
    "### Will work with [Customer Complaint Database](https://www.kaggle.com/datasets/selener/consumer-complaint-database) from Kaggle"
   ]
  },
  {
   "cell_type": "code",
   "execution_count": 1,
   "id": "781fa906",
   "metadata": {},
   "outputs": [],
   "source": [
    "import pandas as pd\n",
    "import numpy as np\n",
    "import os\n",
    "import json\n",
    "#import shutil\n",
    "\n",
    "#import tensorflow as tf\n",
    "#import tensorflow_hub as hub\n",
    "#import tensorflow_text as text\n",
    "\n",
    "#from official.nlp import optimization  # to create AdamW optimizer\n",
    "\n",
    "#import matplotlib.pyplot as plt"
   ]
  },
  {
   "cell_type": "code",
   "execution_count": 2,
   "id": "89e2897d",
   "metadata": {},
   "outputs": [],
   "source": [
    "SPARSITY_THRESHOLD = 0.5\n",
    "\n",
    "def optimize(df: pd.DataFrame) -> pd.DataFrame:\n",
    "    float_types = {np.finfo(np.float16).max: np.float16, np.finfo(np.float32).max: np.float32}\n",
    "    int_types = {np.iinfo(np.int8).max: np.int8, np.iinfo(np.int16).max: np.int16, np.iinfo(np.int32).max: np.int32}\n",
    "    \n",
    "    for dtype in ['float64', 'int64']:\n",
    "        selected_columns = df.select_dtypes(include=[dtype])\n",
    "        max_values = selected_columns.max()\n",
    "        types = float_types if dtype == 'float64' else int_types\n",
    "\n",
    "        for col in selected_columns.columns:\n",
    "            if df[col].isna().sum() / len(df[col]) > SPARSITY_THRESHOLD:  # If mostly NaN values\n",
    "                df[col] = pd.arrays.SparseArray(df[col])\n",
    "            else:\n",
    "                max_val = max_values[col]\n",
    "                if not pd.isna(max_val):  # skip columns with only NaNs\n",
    "                    for max_type_val, type_val in types.items():\n",
    "                        if max_val <= max_type_val:\n",
    "                            df[col] = df[col].astype(type_val)\n",
    "                            break\n",
    "\n",
    "    for col in df.select_dtypes(include=['object']).columns:\n",
    "        if df[col].isna().sum() / len(df[col]) > SPARSITY_THRESHOLD:  # If mostly NaN values\n",
    "            df[col] = pd.arrays.SparseArray(df[col])\n",
    "        else:\n",
    "            try:\n",
    "                df[col] = pd.to_datetime(df[col])\n",
    "            except ValueError:\n",
    "                num_unique_values = len(df[col].unique())\n",
    "                num_total_values = len(df[col])\n",
    "                if num_unique_values / num_total_values < SPARSITY_THRESHOLD:\n",
    "                    df[col] = df[col].astype('category')\n",
    "\n",
    "    return df\n"
   ]
  },
  {
   "cell_type": "markdown",
   "id": "a665669f",
   "metadata": {},
   "source": [
    "### The ``optimize()`` method is fetched from the notebook [memory-usage-optimization-poc.ipynb](https://github.com/harunugurlu/mobile-action-internship/blob/main/Data%20Science/PoC/Memory%20Usage%20Optimization/memory-usage-optimization-poc.ipynb)"
   ]
  },
  {
   "cell_type": "code",
   "execution_count": 3,
   "id": "3b56405b",
   "metadata": {},
   "outputs": [],
   "source": [
    "data_dir = 'data/rows.csv'"
   ]
  },
  {
   "cell_type": "code",
   "execution_count": 4,
   "id": "ac1254f5",
   "metadata": {},
   "outputs": [
    {
     "name": "stderr",
     "output_type": "stream",
     "text": [
      "C:\\Users\\harun\\AppData\\Local\\Temp\\ipykernel_6576\\291152379.py:1: DtypeWarning: Columns (4,5,6,11,16) have mixed types. Specify dtype option on import or set low_memory=False.\n",
      "  customer_tickets = pd.read_csv(data_dir)\n"
     ]
    }
   ],
   "source": [
    "customer_tickets = pd.read_csv(data_dir)"
   ]
  },
  {
   "cell_type": "code",
   "execution_count": 5,
   "id": "8ed34861",
   "metadata": {},
   "outputs": [
    {
     "data": {
      "text/html": [
       "<div>\n",
       "<style scoped>\n",
       "    .dataframe tbody tr th:only-of-type {\n",
       "        vertical-align: middle;\n",
       "    }\n",
       "\n",
       "    .dataframe tbody tr th {\n",
       "        vertical-align: top;\n",
       "    }\n",
       "\n",
       "    .dataframe thead th {\n",
       "        text-align: right;\n",
       "    }\n",
       "</style>\n",
       "<table border=\"1\" class=\"dataframe\">\n",
       "  <thead>\n",
       "    <tr style=\"text-align: right;\">\n",
       "      <th></th>\n",
       "      <th>Date received</th>\n",
       "      <th>Product</th>\n",
       "      <th>Sub-product</th>\n",
       "      <th>Issue</th>\n",
       "      <th>Sub-issue</th>\n",
       "      <th>Consumer complaint narrative</th>\n",
       "      <th>Company public response</th>\n",
       "      <th>Company</th>\n",
       "      <th>State</th>\n",
       "      <th>ZIP code</th>\n",
       "      <th>Tags</th>\n",
       "      <th>Consumer consent provided?</th>\n",
       "      <th>Submitted via</th>\n",
       "      <th>Date sent to company</th>\n",
       "      <th>Company response to consumer</th>\n",
       "      <th>Timely response?</th>\n",
       "      <th>Consumer disputed?</th>\n",
       "      <th>Complaint ID</th>\n",
       "    </tr>\n",
       "  </thead>\n",
       "  <tbody>\n",
       "    <tr>\n",
       "      <th>0</th>\n",
       "      <td>05/10/2019</td>\n",
       "      <td>Checking or savings account</td>\n",
       "      <td>Checking account</td>\n",
       "      <td>Managing an account</td>\n",
       "      <td>Problem using a debit or ATM card</td>\n",
       "      <td>NaN</td>\n",
       "      <td>NaN</td>\n",
       "      <td>NAVY FEDERAL CREDIT UNION</td>\n",
       "      <td>FL</td>\n",
       "      <td>328XX</td>\n",
       "      <td>Older American</td>\n",
       "      <td>NaN</td>\n",
       "      <td>Web</td>\n",
       "      <td>05/10/2019</td>\n",
       "      <td>In progress</td>\n",
       "      <td>Yes</td>\n",
       "      <td>NaN</td>\n",
       "      <td>3238275</td>\n",
       "    </tr>\n",
       "    <tr>\n",
       "      <th>1</th>\n",
       "      <td>05/10/2019</td>\n",
       "      <td>Checking or savings account</td>\n",
       "      <td>Other banking product or service</td>\n",
       "      <td>Managing an account</td>\n",
       "      <td>Deposits and withdrawals</td>\n",
       "      <td>NaN</td>\n",
       "      <td>NaN</td>\n",
       "      <td>BOEING EMPLOYEES CREDIT UNION</td>\n",
       "      <td>WA</td>\n",
       "      <td>98204</td>\n",
       "      <td>NaN</td>\n",
       "      <td>NaN</td>\n",
       "      <td>Referral</td>\n",
       "      <td>05/10/2019</td>\n",
       "      <td>Closed with explanation</td>\n",
       "      <td>Yes</td>\n",
       "      <td>NaN</td>\n",
       "      <td>3238228</td>\n",
       "    </tr>\n",
       "    <tr>\n",
       "      <th>2</th>\n",
       "      <td>05/10/2019</td>\n",
       "      <td>Debt collection</td>\n",
       "      <td>Payday loan debt</td>\n",
       "      <td>Communication tactics</td>\n",
       "      <td>Frequent or repeated calls</td>\n",
       "      <td>NaN</td>\n",
       "      <td>NaN</td>\n",
       "      <td>CURO Intermediate Holdings</td>\n",
       "      <td>TX</td>\n",
       "      <td>751XX</td>\n",
       "      <td>NaN</td>\n",
       "      <td>NaN</td>\n",
       "      <td>Web</td>\n",
       "      <td>05/10/2019</td>\n",
       "      <td>Closed with explanation</td>\n",
       "      <td>Yes</td>\n",
       "      <td>NaN</td>\n",
       "      <td>3237964</td>\n",
       "    </tr>\n",
       "    <tr>\n",
       "      <th>3</th>\n",
       "      <td>05/10/2019</td>\n",
       "      <td>Credit reporting, credit repair services, or o...</td>\n",
       "      <td>Credit reporting</td>\n",
       "      <td>Incorrect information on your report</td>\n",
       "      <td>Old information reappears or never goes away</td>\n",
       "      <td>NaN</td>\n",
       "      <td>NaN</td>\n",
       "      <td>Ad Astra Recovery Services Inc</td>\n",
       "      <td>LA</td>\n",
       "      <td>708XX</td>\n",
       "      <td>NaN</td>\n",
       "      <td>NaN</td>\n",
       "      <td>Web</td>\n",
       "      <td>05/10/2019</td>\n",
       "      <td>Closed with explanation</td>\n",
       "      <td>Yes</td>\n",
       "      <td>NaN</td>\n",
       "      <td>3238479</td>\n",
       "    </tr>\n",
       "    <tr>\n",
       "      <th>4</th>\n",
       "      <td>05/10/2019</td>\n",
       "      <td>Checking or savings account</td>\n",
       "      <td>Checking account</td>\n",
       "      <td>Managing an account</td>\n",
       "      <td>Banking errors</td>\n",
       "      <td>NaN</td>\n",
       "      <td>NaN</td>\n",
       "      <td>ALLY FINANCIAL INC.</td>\n",
       "      <td>AZ</td>\n",
       "      <td>85205</td>\n",
       "      <td>NaN</td>\n",
       "      <td>NaN</td>\n",
       "      <td>Postal mail</td>\n",
       "      <td>05/10/2019</td>\n",
       "      <td>In progress</td>\n",
       "      <td>Yes</td>\n",
       "      <td>NaN</td>\n",
       "      <td>3238460</td>\n",
       "    </tr>\n",
       "  </tbody>\n",
       "</table>\n",
       "</div>"
      ],
      "text/plain": [
       "  Date received                                            Product  \\\n",
       "0    05/10/2019                        Checking or savings account   \n",
       "1    05/10/2019                        Checking or savings account   \n",
       "2    05/10/2019                                    Debt collection   \n",
       "3    05/10/2019  Credit reporting, credit repair services, or o...   \n",
       "4    05/10/2019                        Checking or savings account   \n",
       "\n",
       "                        Sub-product                                 Issue  \\\n",
       "0                  Checking account                   Managing an account   \n",
       "1  Other banking product or service                   Managing an account   \n",
       "2                  Payday loan debt                 Communication tactics   \n",
       "3                  Credit reporting  Incorrect information on your report   \n",
       "4                  Checking account                   Managing an account   \n",
       "\n",
       "                                      Sub-issue Consumer complaint narrative  \\\n",
       "0             Problem using a debit or ATM card                          NaN   \n",
       "1                      Deposits and withdrawals                          NaN   \n",
       "2                    Frequent or repeated calls                          NaN   \n",
       "3  Old information reappears or never goes away                          NaN   \n",
       "4                                Banking errors                          NaN   \n",
       "\n",
       "  Company public response                         Company State ZIP code  \\\n",
       "0                     NaN       NAVY FEDERAL CREDIT UNION    FL    328XX   \n",
       "1                     NaN   BOEING EMPLOYEES CREDIT UNION    WA    98204   \n",
       "2                     NaN      CURO Intermediate Holdings    TX    751XX   \n",
       "3                     NaN  Ad Astra Recovery Services Inc    LA    708XX   \n",
       "4                     NaN             ALLY FINANCIAL INC.    AZ    85205   \n",
       "\n",
       "             Tags Consumer consent provided? Submitted via  \\\n",
       "0  Older American                        NaN           Web   \n",
       "1             NaN                        NaN      Referral   \n",
       "2             NaN                        NaN           Web   \n",
       "3             NaN                        NaN           Web   \n",
       "4             NaN                        NaN   Postal mail   \n",
       "\n",
       "  Date sent to company Company response to consumer Timely response?  \\\n",
       "0           05/10/2019                  In progress              Yes   \n",
       "1           05/10/2019      Closed with explanation              Yes   \n",
       "2           05/10/2019      Closed with explanation              Yes   \n",
       "3           05/10/2019      Closed with explanation              Yes   \n",
       "4           05/10/2019                  In progress              Yes   \n",
       "\n",
       "  Consumer disputed?  Complaint ID  \n",
       "0                NaN       3238275  \n",
       "1                NaN       3238228  \n",
       "2                NaN       3237964  \n",
       "3                NaN       3238479  \n",
       "4                NaN       3238460  "
      ]
     },
     "execution_count": 5,
     "metadata": {},
     "output_type": "execute_result"
    }
   ],
   "source": [
    "customer_tickets.head()"
   ]
  },
  {
   "cell_type": "markdown",
   "id": "a7ba49ab",
   "metadata": {},
   "source": [
    "Will use the ``Consumer complaint narrative`` to predict the ``Product`` "
   ]
  },
  {
   "cell_type": "code",
   "execution_count": 6,
   "id": "fa4f0a9d",
   "metadata": {},
   "outputs": [
    {
     "name": "stdout",
     "output_type": "stream",
     "text": [
      "(1282355, 18)\n"
     ]
    }
   ],
   "source": [
    "print(customer_tickets.shape)"
   ]
  },
  {
   "cell_type": "code",
   "execution_count": 7,
   "id": "c302e083",
   "metadata": {
    "scrolled": true
   },
   "outputs": [
    {
     "name": "stdout",
     "output_type": "stream",
     "text": [
      "<class 'pandas.core.frame.DataFrame'>\n",
      "RangeIndex: 1282355 entries, 0 to 1282354\n",
      "Data columns (total 18 columns):\n",
      " #   Column                        Non-Null Count    Dtype \n",
      "---  ------                        --------------    ----- \n",
      " 0   Date received                 1282355 non-null  object\n",
      " 1   Product                       1282355 non-null  object\n",
      " 2   Sub-product                   1047189 non-null  object\n",
      " 3   Issue                         1282355 non-null  object\n",
      " 4   Sub-issue                     751169 non-null   object\n",
      " 5   Consumer complaint narrative  383564 non-null   object\n",
      " 6   Company public response       449082 non-null   object\n",
      " 7   Company                       1282355 non-null  object\n",
      " 8   State                         1262955 non-null  object\n",
      " 9   ZIP code                      1167057 non-null  object\n",
      " 10  Tags                          175643 non-null   object\n",
      " 11  Consumer consent provided?    690654 non-null   object\n",
      " 12  Submitted via                 1282355 non-null  object\n",
      " 13  Date sent to company          1282355 non-null  object\n",
      " 14  Company response to consumer  1282348 non-null  object\n",
      " 15  Timely response?              1282355 non-null  object\n",
      " 16  Consumer disputed?            768501 non-null   object\n",
      " 17  Complaint ID                  1282355 non-null  int64 \n",
      "dtypes: int64(1), object(17)\n",
      "memory usage: 1.7 GB\n"
     ]
    }
   ],
   "source": [
    "customer_tickets.info(memory_usage=\"deep\")"
   ]
  },
  {
   "cell_type": "markdown",
   "id": "35d6e3cd",
   "metadata": {},
   "source": [
    "The dataset is very large (1m+ rows, 1.7gb memory usage), let's shrink it down"
   ]
  },
  {
   "cell_type": "code",
   "execution_count": 8,
   "id": "390eeabe",
   "metadata": {},
   "outputs": [],
   "source": [
    "customer_tickets = optimize(customer_tickets)"
   ]
  },
  {
   "cell_type": "code",
   "execution_count": 9,
   "id": "7616ac40",
   "metadata": {
    "scrolled": true
   },
   "outputs": [
    {
     "name": "stdout",
     "output_type": "stream",
     "text": [
      "<class 'pandas.core.frame.DataFrame'>\n",
      "RangeIndex: 1282355 entries, 0 to 1282354\n",
      "Data columns (total 18 columns):\n",
      " #   Column                        Non-Null Count    Dtype              \n",
      "---  ------                        --------------    -----              \n",
      " 0   Date received                 1282355 non-null  datetime64[ns]     \n",
      " 1   Product                       1282355 non-null  category           \n",
      " 2   Sub-product                   1047189 non-null  category           \n",
      " 3   Issue                         1282355 non-null  category           \n",
      " 4   Sub-issue                     751169 non-null   category           \n",
      " 5   Consumer complaint narrative  383564 non-null   Sparse[object, nan]\n",
      " 6   Company public response       449082 non-null   Sparse[object, nan]\n",
      " 7   Company                       1282355 non-null  category           \n",
      " 8   State                         1262955 non-null  category           \n",
      " 9   ZIP code                      1167057 non-null  category           \n",
      " 10  Tags                          175643 non-null   Sparse[object, nan]\n",
      " 11  Consumer consent provided?    690654 non-null   category           \n",
      " 12  Submitted via                 1282355 non-null  category           \n",
      " 13  Date sent to company          1282355 non-null  datetime64[ns]     \n",
      " 14  Company response to consumer  1282348 non-null  category           \n",
      " 15  Timely response?              1282355 non-null  category           \n",
      " 16  Consumer disputed?            768501 non-null   category           \n",
      " 17  Complaint ID                  1282355 non-null  int32              \n",
      "dtypes: Sparse[object, nan](3), category(12), datetime64[ns](2), int32(1)\n",
      "memory usage: 605.1 MB\n"
     ]
    }
   ],
   "source": [
    "customer_tickets.info(memory_usage=\"deep\")"
   ]
  },
  {
   "cell_type": "markdown",
   "id": "44ad313a",
   "metadata": {},
   "source": [
    "Inspecting the features of interest (``Consumer complaint narrative`` and ``Product``)"
   ]
  },
  {
   "cell_type": "code",
   "execution_count": 10,
   "id": "2c004e70",
   "metadata": {},
   "outputs": [
    {
     "name": "stdout",
     "output_type": "stream",
     "text": [
      "Num of non na ticket descriptions 383564\n",
      "Num of unique products: 18\n"
     ]
    }
   ],
   "source": [
    "print(\"Num of non na ticket descriptions\", customer_tickets['Consumer complaint narrative'].count())\n",
    "print(\"Num of unique products:\", customer_tickets['Product'].nunique())"
   ]
  },
  {
   "cell_type": "markdown",
   "id": "54d46009",
   "metadata": {},
   "source": [
    "We have over __1m__ rows but only less than half of them include a consumer complaint narrative. Lucky for us this number is still large (380k+) and adequate to use in __BERT__. Therefore, we can just drop them. But before that it is a good approach to inspect and to see if there is any correlation between the missing values of  ``Consumer complaint narrative`` and their respective ``Product``."
   ]
  },
  {
   "cell_type": "code",
   "execution_count": 11,
   "id": "1588e34b",
   "metadata": {},
   "outputs": [],
   "source": [
    "# Getting the rows with NaN values for 'Consumer complaint narrative'\n",
    "invalid_tickets = customer_tickets[customer_tickets['Consumer complaint narrative'].isnull()]"
   ]
  },
  {
   "cell_type": "code",
   "execution_count": 12,
   "id": "e3848fdf",
   "metadata": {},
   "outputs": [
    {
     "data": {
      "text/plain": [
       "(898791, 18)"
      ]
     },
     "execution_count": 12,
     "metadata": {},
     "output_type": "execute_result"
    }
   ],
   "source": [
    "invalid_tickets.shape"
   ]
  },
  {
   "cell_type": "code",
   "execution_count": 13,
   "id": "01131ec5",
   "metadata": {},
   "outputs": [],
   "source": [
    "products_complaints = invalid_tickets[['Product', 'Consumer complaint narrative']]"
   ]
  },
  {
   "cell_type": "code",
   "execution_count": 14,
   "id": "745477a2",
   "metadata": {},
   "outputs": [
    {
     "data": {
      "text/plain": [
       "Mortgage                                                                        225111\n",
       "Debt collection                                                                 158163\n",
       "Credit reporting, credit repair services, or other personal consumer reports    133600\n",
       "Credit reporting                                                                108844\n",
       "Bank account or service                                                          71321\n",
       "Credit card                                                                      70352\n",
       "Student loan                                                                     29875\n",
       "Checking or savings account                                                      27760\n",
       "Credit card or prepaid card                                                      26274\n",
       "Consumer Loan                                                                    22131\n",
       "Vehicle loan or lease                                                             5632\n",
       "Money transfer, virtual currency, or money service                                4698\n",
       "Payday loan, title loan, or personal loan                                         4238\n",
       "Money transfers                                                                   3857\n",
       "Payday loan                                                                       3797\n",
       "Prepaid card                                                                      2369\n",
       "Other financial service                                                            767\n",
       "Virtual currency                                                                     2\n",
       "Name: Product, dtype: int64"
      ]
     },
     "execution_count": 14,
     "metadata": {},
     "output_type": "execute_result"
    }
   ],
   "source": [
    "products_complaints['Product'].value_counts()"
   ]
  },
  {
   "cell_type": "markdown",
   "id": "d901c82e",
   "metadata": {},
   "source": [
    "Seems like there is no correlation between missing narrative values and product values. There is no large number of certain product. Actually, we should take into account other features such as ``Sub-product``, ``Issue``, ``Sub-issue`` etc. but we are ignoring them for ease."
   ]
  },
  {
   "cell_type": "markdown",
   "id": "f9f4e439",
   "metadata": {},
   "source": [
    "Get the \"valid\" tickets with consumer complaint narratives."
   ]
  },
  {
   "cell_type": "code",
   "execution_count": 15,
   "id": "0ec765b4",
   "metadata": {},
   "outputs": [],
   "source": [
    "valid_tickets = customer_tickets[customer_tickets['Consumer complaint narrative'].notna()].copy()"
   ]
  },
  {
   "cell_type": "code",
   "execution_count": 16,
   "id": "9fd72f67",
   "metadata": {},
   "outputs": [
    {
     "name": "stdout",
     "output_type": "stream",
     "text": [
      "(383564, 18)\n"
     ]
    },
    {
     "data": {
      "text/html": [
       "<div>\n",
       "<style scoped>\n",
       "    .dataframe tbody tr th:only-of-type {\n",
       "        vertical-align: middle;\n",
       "    }\n",
       "\n",
       "    .dataframe tbody tr th {\n",
       "        vertical-align: top;\n",
       "    }\n",
       "\n",
       "    .dataframe thead th {\n",
       "        text-align: right;\n",
       "    }\n",
       "</style>\n",
       "<table border=\"1\" class=\"dataframe\">\n",
       "  <thead>\n",
       "    <tr style=\"text-align: right;\">\n",
       "      <th></th>\n",
       "      <th>Date received</th>\n",
       "      <th>Product</th>\n",
       "      <th>Sub-product</th>\n",
       "      <th>Issue</th>\n",
       "      <th>Sub-issue</th>\n",
       "      <th>Consumer complaint narrative</th>\n",
       "      <th>Company public response</th>\n",
       "      <th>Company</th>\n",
       "      <th>State</th>\n",
       "      <th>ZIP code</th>\n",
       "      <th>Tags</th>\n",
       "      <th>Consumer consent provided?</th>\n",
       "      <th>Submitted via</th>\n",
       "      <th>Date sent to company</th>\n",
       "      <th>Company response to consumer</th>\n",
       "      <th>Timely response?</th>\n",
       "      <th>Consumer disputed?</th>\n",
       "      <th>Complaint ID</th>\n",
       "    </tr>\n",
       "  </thead>\n",
       "  <tbody>\n",
       "    <tr>\n",
       "      <th>29904</th>\n",
       "      <td>2019-03-23</td>\n",
       "      <td>Credit reporting, credit repair services, or o...</td>\n",
       "      <td>Credit reporting</td>\n",
       "      <td>Incorrect information on your report</td>\n",
       "      <td>Account information incorrect</td>\n",
       "      <td>The Summer of XX/XX/2018 I was denied a mortga...</td>\n",
       "      <td>Company has responded to the consumer and the ...</td>\n",
       "      <td>TRANSUNION INTERMEDIATE HOLDINGS, INC.</td>\n",
       "      <td>IL</td>\n",
       "      <td>NaN</td>\n",
       "      <td>NaN</td>\n",
       "      <td>Consent provided</td>\n",
       "      <td>Web</td>\n",
       "      <td>2019-03-23</td>\n",
       "      <td>Closed with explanation</td>\n",
       "      <td>Yes</td>\n",
       "      <td>NaN</td>\n",
       "      <td>3189109</td>\n",
       "    </tr>\n",
       "    <tr>\n",
       "      <th>30629</th>\n",
       "      <td>2019-03-22</td>\n",
       "      <td>Credit reporting, credit repair services, or o...</td>\n",
       "      <td>Credit reporting</td>\n",
       "      <td>Incorrect information on your report</td>\n",
       "      <td>Account information incorrect</td>\n",
       "      <td>There are many mistakes appear in my report wi...</td>\n",
       "      <td>Company has responded to the consumer and the ...</td>\n",
       "      <td>TRANSUNION INTERMEDIATE HOLDINGS, INC.</td>\n",
       "      <td>VA</td>\n",
       "      <td>220XX</td>\n",
       "      <td>NaN</td>\n",
       "      <td>Consent provided</td>\n",
       "      <td>Web</td>\n",
       "      <td>2019-03-22</td>\n",
       "      <td>Closed with explanation</td>\n",
       "      <td>Yes</td>\n",
       "      <td>NaN</td>\n",
       "      <td>3187982</td>\n",
       "    </tr>\n",
       "    <tr>\n",
       "      <th>30735</th>\n",
       "      <td>2019-03-22</td>\n",
       "      <td>Credit reporting, credit repair services, or o...</td>\n",
       "      <td>Credit reporting</td>\n",
       "      <td>Incorrect information on your report</td>\n",
       "      <td>Account information incorrect</td>\n",
       "      <td>There are many mistakes appear in my report wi...</td>\n",
       "      <td>Company has responded to the consumer and the ...</td>\n",
       "      <td>TRANSUNION INTERMEDIATE HOLDINGS, INC.</td>\n",
       "      <td>TX</td>\n",
       "      <td>770XX</td>\n",
       "      <td>NaN</td>\n",
       "      <td>Consent provided</td>\n",
       "      <td>Web</td>\n",
       "      <td>2019-03-22</td>\n",
       "      <td>Closed with explanation</td>\n",
       "      <td>Yes</td>\n",
       "      <td>NaN</td>\n",
       "      <td>3187954</td>\n",
       "    </tr>\n",
       "    <tr>\n",
       "      <th>30795</th>\n",
       "      <td>2019-03-22</td>\n",
       "      <td>Credit reporting, credit repair services, or o...</td>\n",
       "      <td>Credit reporting</td>\n",
       "      <td>Incorrect information on your report</td>\n",
       "      <td>Account information incorrect</td>\n",
       "      <td>There are many mistakes appear in my report wi...</td>\n",
       "      <td>Company has responded to the consumer and the ...</td>\n",
       "      <td>TRANSUNION INTERMEDIATE HOLDINGS, INC.</td>\n",
       "      <td>TX</td>\n",
       "      <td>787XX</td>\n",
       "      <td>NaN</td>\n",
       "      <td>Consent provided</td>\n",
       "      <td>Web</td>\n",
       "      <td>2019-03-22</td>\n",
       "      <td>Closed with explanation</td>\n",
       "      <td>Yes</td>\n",
       "      <td>NaN</td>\n",
       "      <td>3188091</td>\n",
       "    </tr>\n",
       "    <tr>\n",
       "      <th>30807</th>\n",
       "      <td>2019-03-22</td>\n",
       "      <td>Credit reporting, credit repair services, or o...</td>\n",
       "      <td>Credit reporting</td>\n",
       "      <td>Incorrect information on your report</td>\n",
       "      <td>Account information incorrect</td>\n",
       "      <td>There are many mistakes appear in my report wi...</td>\n",
       "      <td>Company has responded to the consumer and the ...</td>\n",
       "      <td>TRANSUNION INTERMEDIATE HOLDINGS, INC.</td>\n",
       "      <td>CA</td>\n",
       "      <td>951XX</td>\n",
       "      <td>NaN</td>\n",
       "      <td>Consent provided</td>\n",
       "      <td>Web</td>\n",
       "      <td>2019-03-22</td>\n",
       "      <td>Closed with explanation</td>\n",
       "      <td>Yes</td>\n",
       "      <td>NaN</td>\n",
       "      <td>3188119</td>\n",
       "    </tr>\n",
       "  </tbody>\n",
       "</table>\n",
       "</div>"
      ],
      "text/plain": [
       "      Date received                                            Product  \\\n",
       "29904    2019-03-23  Credit reporting, credit repair services, or o...   \n",
       "30629    2019-03-22  Credit reporting, credit repair services, or o...   \n",
       "30735    2019-03-22  Credit reporting, credit repair services, or o...   \n",
       "30795    2019-03-22  Credit reporting, credit repair services, or o...   \n",
       "30807    2019-03-22  Credit reporting, credit repair services, or o...   \n",
       "\n",
       "            Sub-product                                 Issue  \\\n",
       "29904  Credit reporting  Incorrect information on your report   \n",
       "30629  Credit reporting  Incorrect information on your report   \n",
       "30735  Credit reporting  Incorrect information on your report   \n",
       "30795  Credit reporting  Incorrect information on your report   \n",
       "30807  Credit reporting  Incorrect information on your report   \n",
       "\n",
       "                           Sub-issue  \\\n",
       "29904  Account information incorrect   \n",
       "30629  Account information incorrect   \n",
       "30735  Account information incorrect   \n",
       "30795  Account information incorrect   \n",
       "30807  Account information incorrect   \n",
       "\n",
       "                            Consumer complaint narrative  \\\n",
       "29904  The Summer of XX/XX/2018 I was denied a mortga...   \n",
       "30629  There are many mistakes appear in my report wi...   \n",
       "30735  There are many mistakes appear in my report wi...   \n",
       "30795  There are many mistakes appear in my report wi...   \n",
       "30807  There are many mistakes appear in my report wi...   \n",
       "\n",
       "                                 Company public response  \\\n",
       "29904  Company has responded to the consumer and the ...   \n",
       "30629  Company has responded to the consumer and the ...   \n",
       "30735  Company has responded to the consumer and the ...   \n",
       "30795  Company has responded to the consumer and the ...   \n",
       "30807  Company has responded to the consumer and the ...   \n",
       "\n",
       "                                      Company State ZIP code Tags  \\\n",
       "29904  TRANSUNION INTERMEDIATE HOLDINGS, INC.    IL      NaN  NaN   \n",
       "30629  TRANSUNION INTERMEDIATE HOLDINGS, INC.    VA    220XX  NaN   \n",
       "30735  TRANSUNION INTERMEDIATE HOLDINGS, INC.    TX    770XX  NaN   \n",
       "30795  TRANSUNION INTERMEDIATE HOLDINGS, INC.    TX    787XX  NaN   \n",
       "30807  TRANSUNION INTERMEDIATE HOLDINGS, INC.    CA    951XX  NaN   \n",
       "\n",
       "      Consumer consent provided? Submitted via Date sent to company  \\\n",
       "29904           Consent provided           Web           2019-03-23   \n",
       "30629           Consent provided           Web           2019-03-22   \n",
       "30735           Consent provided           Web           2019-03-22   \n",
       "30795           Consent provided           Web           2019-03-22   \n",
       "30807           Consent provided           Web           2019-03-22   \n",
       "\n",
       "      Company response to consumer Timely response? Consumer disputed?  \\\n",
       "29904      Closed with explanation              Yes                NaN   \n",
       "30629      Closed with explanation              Yes                NaN   \n",
       "30735      Closed with explanation              Yes                NaN   \n",
       "30795      Closed with explanation              Yes                NaN   \n",
       "30807      Closed with explanation              Yes                NaN   \n",
       "\n",
       "       Complaint ID  \n",
       "29904       3189109  \n",
       "30629       3187982  \n",
       "30735       3187954  \n",
       "30795       3188091  \n",
       "30807       3188119  "
      ]
     },
     "execution_count": 16,
     "metadata": {},
     "output_type": "execute_result"
    }
   ],
   "source": [
    "print(valid_tickets.shape)\n",
    "valid_tickets.head()"
   ]
  },
  {
   "cell_type": "code",
   "execution_count": 17,
   "id": "eca04d56",
   "metadata": {},
   "outputs": [
    {
     "name": "stdout",
     "output_type": "stream",
     "text": [
      "<class 'pandas.core.frame.DataFrame'>\n",
      "Int64Index: 383564 entries, 29904 to 912553\n",
      "Data columns (total 18 columns):\n",
      " #   Column                        Non-Null Count   Dtype              \n",
      "---  ------                        --------------   -----              \n",
      " 0   Date received                 383564 non-null  datetime64[ns]     \n",
      " 1   Product                       383564 non-null  category           \n",
      " 2   Sub-product                   331391 non-null  category           \n",
      " 3   Issue                         383564 non-null  category           \n",
      " 4   Sub-issue                     269891 non-null  category           \n",
      " 5   Consumer complaint narrative  383564 non-null  Sparse[object, nan]\n",
      " 6   Company public response       182680 non-null  Sparse[object, nan]\n",
      " 7   Company                       383564 non-null  category           \n",
      " 8   State                         382178 non-null  category           \n",
      " 9   ZIP code                      294787 non-null  category           \n",
      " 10  Tags                          66245 non-null   Sparse[object, nan]\n",
      " 11  Consumer consent provided?    383564 non-null  category           \n",
      " 12  Submitted via                 383564 non-null  category           \n",
      " 13  Date sent to company          383564 non-null  datetime64[ns]     \n",
      " 14  Company response to consumer  383560 non-null  category           \n",
      " 15  Timely response?              383564 non-null  category           \n",
      " 16  Consumer disputed?            164076 non-null  category           \n",
      " 17  Complaint ID                  383564 non-null  int32              \n",
      "dtypes: Sparse[object, nan](3), category(12), datetime64[ns](2), int32(1)\n",
      "memory usage: 479.0 MB\n"
     ]
    }
   ],
   "source": [
    "valid_tickets.info(memory_usage=\"deep\")"
   ]
  },
  {
   "cell_type": "markdown",
   "id": "4b6d8231",
   "metadata": {},
   "source": [
    "We have converted the dtype of the ``Consumer complaint narrative`` to Sparse array because it had lots of missing values. But in our ``valid_tickets`` DataFrame, we no longer have missing values of ``Consumer complaint narrative``. Therefore, we should cast it back to dense array."
   ]
  },
  {
   "cell_type": "code",
   "execution_count": 18,
   "id": "eb56d0db",
   "metadata": {},
   "outputs": [],
   "source": [
    "valid_tickets.loc[:, 'Consumer complaint narrative'] = valid_tickets['Consumer complaint narrative'].sparse.to_dense()"
   ]
  },
  {
   "cell_type": "markdown",
   "id": "66bdf3b2",
   "metadata": {},
   "source": [
    "Should check the other Sparse array columns as well."
   ]
  },
  {
   "cell_type": "code",
   "execution_count": 19,
   "id": "9ef123d6",
   "metadata": {},
   "outputs": [
    {
     "name": "stdout",
     "output_type": "stream",
     "text": [
      "<class 'pandas.core.frame.DataFrame'>\n",
      "Int64Index: 383564 entries, 29904 to 912553\n",
      "Data columns (total 18 columns):\n",
      " #   Column                        Non-Null Count   Dtype              \n",
      "---  ------                        --------------   -----              \n",
      " 0   Date received                 383564 non-null  datetime64[ns]     \n",
      " 1   Product                       383564 non-null  category           \n",
      " 2   Sub-product                   331391 non-null  category           \n",
      " 3   Issue                         383564 non-null  category           \n",
      " 4   Sub-issue                     269891 non-null  category           \n",
      " 5   Consumer complaint narrative  383564 non-null  object             \n",
      " 6   Company public response       182680 non-null  Sparse[object, nan]\n",
      " 7   Company                       383564 non-null  category           \n",
      " 8   State                         382178 non-null  category           \n",
      " 9   ZIP code                      294787 non-null  category           \n",
      " 10  Tags                          66245 non-null   Sparse[object, nan]\n",
      " 11  Consumer consent provided?    383564 non-null  category           \n",
      " 12  Submitted via                 383564 non-null  category           \n",
      " 13  Date sent to company          383564 non-null  datetime64[ns]     \n",
      " 14  Company response to consumer  383560 non-null  category           \n",
      " 15  Timely response?              383564 non-null  category           \n",
      " 16  Consumer disputed?            164076 non-null  category           \n",
      " 17  Complaint ID                  383564 non-null  int32              \n",
      "dtypes: Sparse[object, nan](2), category(12), datetime64[ns](2), int32(1), object(1)\n",
      "memory usage: 22.7+ MB\n"
     ]
    }
   ],
   "source": [
    "valid_tickets.info()"
   ]
  },
  {
   "cell_type": "markdown",
   "id": "cca00c8c",
   "metadata": {},
   "source": [
    "Finally, we can start training BERT"
   ]
  },
  {
   "cell_type": "markdown",
   "id": "0457b732",
   "metadata": {},
   "source": [
    "#### Bert expects the data in a certain form:\n",
    "- __Column 0:__ An ID for the row\n",
    "- __Column 1:__ The label for the row (should be an int — class labels: 0,1,2,3 etc) This column represents the class or category of the ticket (the \"target\" that the model is trying to predict).\n",
    "- __Column 2:__ A column of the same letter for all rows — this is a throw-away column that we need to include because BERT expects it.  It doesn't have any impact on the task.\n",
    "- __Column 3:__ The text examples we want to classify. This is the data that BERT will use to learn how to classify tickets.\n",
    "\n",
    "Also it expects the data to be in tsv file."
   ]
  },
  {
   "cell_type": "code",
   "execution_count": 20,
   "id": "d521e35b",
   "metadata": {},
   "outputs": [],
   "source": [
    "indices = range(valid_tickets['Consumer complaint narrative'].size)"
   ]
  },
  {
   "cell_type": "code",
   "execution_count": 21,
   "id": "c3e4df3d",
   "metadata": {},
   "outputs": [],
   "source": [
    "# Getting product and complaint pairs\n",
    "product_complaint_pairs = valid_tickets[['Product', 'Consumer complaint narrative']]"
   ]
  },
  {
   "cell_type": "code",
   "execution_count": 22,
   "id": "5b9fe6b8",
   "metadata": {},
   "outputs": [
    {
     "data": {
      "text/html": [
       "<div>\n",
       "<style scoped>\n",
       "    .dataframe tbody tr th:only-of-type {\n",
       "        vertical-align: middle;\n",
       "    }\n",
       "\n",
       "    .dataframe tbody tr th {\n",
       "        vertical-align: top;\n",
       "    }\n",
       "\n",
       "    .dataframe thead th {\n",
       "        text-align: right;\n",
       "    }\n",
       "</style>\n",
       "<table border=\"1\" class=\"dataframe\">\n",
       "  <thead>\n",
       "    <tr style=\"text-align: right;\">\n",
       "      <th></th>\n",
       "      <th>Product</th>\n",
       "      <th>Consumer complaint narrative</th>\n",
       "    </tr>\n",
       "  </thead>\n",
       "  <tbody>\n",
       "    <tr>\n",
       "      <th>29904</th>\n",
       "      <td>Credit reporting, credit repair services, or o...</td>\n",
       "      <td>The Summer of XX/XX/2018 I was denied a mortga...</td>\n",
       "    </tr>\n",
       "    <tr>\n",
       "      <th>30629</th>\n",
       "      <td>Credit reporting, credit repair services, or o...</td>\n",
       "      <td>There are many mistakes appear in my report wi...</td>\n",
       "    </tr>\n",
       "    <tr>\n",
       "      <th>30735</th>\n",
       "      <td>Credit reporting, credit repair services, or o...</td>\n",
       "      <td>There are many mistakes appear in my report wi...</td>\n",
       "    </tr>\n",
       "    <tr>\n",
       "      <th>30795</th>\n",
       "      <td>Credit reporting, credit repair services, or o...</td>\n",
       "      <td>There are many mistakes appear in my report wi...</td>\n",
       "    </tr>\n",
       "    <tr>\n",
       "      <th>30807</th>\n",
       "      <td>Credit reporting, credit repair services, or o...</td>\n",
       "      <td>There are many mistakes appear in my report wi...</td>\n",
       "    </tr>\n",
       "  </tbody>\n",
       "</table>\n",
       "</div>"
      ],
      "text/plain": [
       "                                                 Product  \\\n",
       "29904  Credit reporting, credit repair services, or o...   \n",
       "30629  Credit reporting, credit repair services, or o...   \n",
       "30735  Credit reporting, credit repair services, or o...   \n",
       "30795  Credit reporting, credit repair services, or o...   \n",
       "30807  Credit reporting, credit repair services, or o...   \n",
       "\n",
       "                            Consumer complaint narrative  \n",
       "29904  The Summer of XX/XX/2018 I was denied a mortga...  \n",
       "30629  There are many mistakes appear in my report wi...  \n",
       "30735  There are many mistakes appear in my report wi...  \n",
       "30795  There are many mistakes appear in my report wi...  \n",
       "30807  There are many mistakes appear in my report wi...  "
      ]
     },
     "execution_count": 22,
     "metadata": {},
     "output_type": "execute_result"
    }
   ],
   "source": [
    "product_complaint_pairs.head()"
   ]
  },
  {
   "cell_type": "markdown",
   "id": "8512f41e",
   "metadata": {},
   "source": [
    "Mapping the Products to integers."
   ]
  },
  {
   "cell_type": "code",
   "execution_count": 23,
   "id": "afdc66b3",
   "metadata": {},
   "outputs": [],
   "source": [
    "from sklearn.preprocessing import LabelEncoder\n",
    "\n",
    "# Initializing a LabelEncoder\n",
    "le = LabelEncoder()\n",
    "\n",
    "# Fitting the encoder to the 'Product' data\n",
    "valid_tickets['Product_encoded'] = le.fit_transform(valid_tickets['Product'])"
   ]
  },
  {
   "cell_type": "code",
   "execution_count": 24,
   "id": "e3f37a22",
   "metadata": {},
   "outputs": [],
   "source": [
    "data = {'ID': range(len(valid_tickets)), 'Product': valid_tickets['Product_encoded'], 'Throw away': 'a', 'Complaint': valid_tickets['Consumer complaint narrative']}"
   ]
  },
  {
   "cell_type": "code",
   "execution_count": 25,
   "id": "8f649fba",
   "metadata": {},
   "outputs": [],
   "source": [
    "df_bert = pd.DataFrame(data=data)"
   ]
  },
  {
   "cell_type": "code",
   "execution_count": 26,
   "id": "989edcfb",
   "metadata": {},
   "outputs": [
    {
     "data": {
      "text/html": [
       "<div>\n",
       "<style scoped>\n",
       "    .dataframe tbody tr th:only-of-type {\n",
       "        vertical-align: middle;\n",
       "    }\n",
       "\n",
       "    .dataframe tbody tr th {\n",
       "        vertical-align: top;\n",
       "    }\n",
       "\n",
       "    .dataframe thead th {\n",
       "        text-align: right;\n",
       "    }\n",
       "</style>\n",
       "<table border=\"1\" class=\"dataframe\">\n",
       "  <thead>\n",
       "    <tr style=\"text-align: right;\">\n",
       "      <th></th>\n",
       "      <th>ID</th>\n",
       "      <th>Product</th>\n",
       "      <th>Throw away</th>\n",
       "      <th>Complaint</th>\n",
       "    </tr>\n",
       "  </thead>\n",
       "  <tbody>\n",
       "    <tr>\n",
       "      <th>29904</th>\n",
       "      <td>0</td>\n",
       "      <td>6</td>\n",
       "      <td>a</td>\n",
       "      <td>The Summer of XX/XX/2018 I was denied a mortga...</td>\n",
       "    </tr>\n",
       "    <tr>\n",
       "      <th>30629</th>\n",
       "      <td>1</td>\n",
       "      <td>6</td>\n",
       "      <td>a</td>\n",
       "      <td>There are many mistakes appear in my report wi...</td>\n",
       "    </tr>\n",
       "    <tr>\n",
       "      <th>30735</th>\n",
       "      <td>2</td>\n",
       "      <td>6</td>\n",
       "      <td>a</td>\n",
       "      <td>There are many mistakes appear in my report wi...</td>\n",
       "    </tr>\n",
       "    <tr>\n",
       "      <th>30795</th>\n",
       "      <td>3</td>\n",
       "      <td>6</td>\n",
       "      <td>a</td>\n",
       "      <td>There are many mistakes appear in my report wi...</td>\n",
       "    </tr>\n",
       "    <tr>\n",
       "      <th>30807</th>\n",
       "      <td>4</td>\n",
       "      <td>6</td>\n",
       "      <td>a</td>\n",
       "      <td>There are many mistakes appear in my report wi...</td>\n",
       "    </tr>\n",
       "  </tbody>\n",
       "</table>\n",
       "</div>"
      ],
      "text/plain": [
       "       ID  Product Throw away  \\\n",
       "29904   0        6          a   \n",
       "30629   1        6          a   \n",
       "30735   2        6          a   \n",
       "30795   3        6          a   \n",
       "30807   4        6          a   \n",
       "\n",
       "                                               Complaint  \n",
       "29904  The Summer of XX/XX/2018 I was denied a mortga...  \n",
       "30629  There are many mistakes appear in my report wi...  \n",
       "30735  There are many mistakes appear in my report wi...  \n",
       "30795  There are many mistakes appear in my report wi...  \n",
       "30807  There are many mistakes appear in my report wi...  "
      ]
     },
     "execution_count": 26,
     "metadata": {},
     "output_type": "execute_result"
    }
   ],
   "source": [
    "df_bert.head()"
   ]
  },
  {
   "cell_type": "markdown",
   "id": "c2506224",
   "metadata": {},
   "source": [
    "We are going to need to create three separate files, called ``train.tsv`` ``dev.tsv`` and ``test.tsv``.  In ``train.tsv`` and ``dev.tsv`` we will have all the 4 columns while in ``test.tsv`` we will only keep 2 of the columns, i.e., id for the row and the text we want to classify."
   ]
  },
  {
   "cell_type": "code",
   "execution_count": 36,
   "id": "e0a0b0a5",
   "metadata": {},
   "outputs": [],
   "source": [
    "# 80% for train and 20% for test\n",
    "from sklearn.model_selection import train_test_split\n",
    "\n",
    "df_bert_train, df_bert_dev = train_test_split(df_bert, test_size=0.2)"
   ]
  },
  {
   "cell_type": "code",
   "execution_count": 40,
   "id": "a08c438e",
   "metadata": {},
   "outputs": [
    {
     "name": "stdout",
     "output_type": "stream",
     "text": [
      "<class 'pandas.core.frame.DataFrame'>\n",
      "Int64Index: 306851 entries, 535070 to 727636\n",
      "Data columns (total 4 columns):\n",
      " #   Column      Non-Null Count   Dtype \n",
      "---  ------      --------------   ----- \n",
      " 0   ID          306851 non-null  int64 \n",
      " 1   Product     306851 non-null  int32 \n",
      " 2   Throw away  306851 non-null  object\n",
      " 3   Complaint   306851 non-null  object\n",
      "dtypes: int32(1), int64(1), object(2)\n",
      "memory usage: 10.5+ MB\n",
      "<class 'pandas.core.frame.DataFrame'>\n",
      "Int64Index: 76713 entries, 791545 to 549509\n",
      "Data columns (total 4 columns):\n",
      " #   Column      Non-Null Count  Dtype \n",
      "---  ------      --------------  ----- \n",
      " 0   ID          76713 non-null  int64 \n",
      " 1   Product     76713 non-null  int32 \n",
      " 2   Throw away  76713 non-null  object\n",
      " 3   Complaint   76713 non-null  object\n",
      "dtypes: int32(1), int64(1), object(2)\n",
      "memory usage: 2.6+ MB\n"
     ]
    }
   ],
   "source": [
    "df_bert_train.info()\n",
    "df_bert_dev.info()"
   ]
  },
  {
   "cell_type": "code",
   "execution_count": 45,
   "id": "652650fb",
   "metadata": {},
   "outputs": [
    {
     "name": "stdout",
     "output_type": "stream",
     "text": [
      "(306851, 4)\n"
     ]
    },
    {
     "data": {
      "text/html": [
       "<div>\n",
       "<style scoped>\n",
       "    .dataframe tbody tr th:only-of-type {\n",
       "        vertical-align: middle;\n",
       "    }\n",
       "\n",
       "    .dataframe tbody tr th {\n",
       "        vertical-align: top;\n",
       "    }\n",
       "\n",
       "    .dataframe thead th {\n",
       "        text-align: right;\n",
       "    }\n",
       "</style>\n",
       "<table border=\"1\" class=\"dataframe\">\n",
       "  <thead>\n",
       "    <tr style=\"text-align: right;\">\n",
       "      <th></th>\n",
       "      <th>ID</th>\n",
       "      <th>Product</th>\n",
       "      <th>Throw away</th>\n",
       "      <th>Complaint</th>\n",
       "    </tr>\n",
       "  </thead>\n",
       "  <tbody>\n",
       "    <tr>\n",
       "      <th>535070</th>\n",
       "      <td>228705</td>\n",
       "      <td>2</td>\n",
       "      <td>a</td>\n",
       "      <td>In XXXX of 2016 my vehicle was total lost in a...</td>\n",
       "    </tr>\n",
       "    <tr>\n",
       "      <th>258345</th>\n",
       "      <td>96195</td>\n",
       "      <td>7</td>\n",
       "      <td>a</td>\n",
       "      <td>Asked for verification of debt, received paper...</td>\n",
       "    </tr>\n",
       "    <tr>\n",
       "      <th>306580</th>\n",
       "      <td>118235</td>\n",
       "      <td>6</td>\n",
       "      <td>a</td>\n",
       "      <td>I have reached out to All credit bureaus some ...</td>\n",
       "    </tr>\n",
       "    <tr>\n",
       "      <th>417036</th>\n",
       "      <td>171469</td>\n",
       "      <td>7</td>\n",
       "      <td>a</td>\n",
       "      <td>This complaint is against XXXX XXXX XXXX locat...</td>\n",
       "    </tr>\n",
       "    <tr>\n",
       "      <th>478547</th>\n",
       "      <td>201596</td>\n",
       "      <td>6</td>\n",
       "      <td>a</td>\n",
       "      <td>I have some hard inquiries on my   XXXX   and ...</td>\n",
       "    </tr>\n",
       "  </tbody>\n",
       "</table>\n",
       "</div>"
      ],
      "text/plain": [
       "            ID  Product Throw away  \\\n",
       "535070  228705        2          a   \n",
       "258345   96195        7          a   \n",
       "306580  118235        6          a   \n",
       "417036  171469        7          a   \n",
       "478547  201596        6          a   \n",
       "\n",
       "                                                Complaint  \n",
       "535070  In XXXX of 2016 my vehicle was total lost in a...  \n",
       "258345  Asked for verification of debt, received paper...  \n",
       "306580  I have reached out to All credit bureaus some ...  \n",
       "417036  This complaint is against XXXX XXXX XXXX locat...  \n",
       "478547  I have some hard inquiries on my   XXXX   and ...  "
      ]
     },
     "execution_count": 45,
     "metadata": {},
     "output_type": "execute_result"
    }
   ],
   "source": [
    "print(df_bert_train.shape)\n",
    "df_bert_train.head()"
   ]
  },
  {
   "cell_type": "code",
   "execution_count": 44,
   "id": "bc551343",
   "metadata": {},
   "outputs": [
    {
     "name": "stdout",
     "output_type": "stream",
     "text": [
      "(76713, 4)\n"
     ]
    },
    {
     "data": {
      "text/html": [
       "<div>\n",
       "<style scoped>\n",
       "    .dataframe tbody tr th:only-of-type {\n",
       "        vertical-align: middle;\n",
       "    }\n",
       "\n",
       "    .dataframe tbody tr th {\n",
       "        vertical-align: top;\n",
       "    }\n",
       "\n",
       "    .dataframe thead th {\n",
       "        text-align: right;\n",
       "    }\n",
       "</style>\n",
       "<table border=\"1\" class=\"dataframe\">\n",
       "  <thead>\n",
       "    <tr style=\"text-align: right;\">\n",
       "      <th></th>\n",
       "      <th>ID</th>\n",
       "      <th>Product</th>\n",
       "      <th>Throw away</th>\n",
       "      <th>Complaint</th>\n",
       "    </tr>\n",
       "  </thead>\n",
       "  <tbody>\n",
       "    <tr>\n",
       "      <th>791545</th>\n",
       "      <td>334454</td>\n",
       "      <td>3</td>\n",
       "      <td>a</td>\n",
       "      <td>I once had a credit card from capital one whic...</td>\n",
       "    </tr>\n",
       "    <tr>\n",
       "      <th>475636</th>\n",
       "      <td>200161</td>\n",
       "      <td>7</td>\n",
       "      <td>a</td>\n",
       "      <td>The company claims i owed them and i have no k...</td>\n",
       "    </tr>\n",
       "    <tr>\n",
       "      <th>684613</th>\n",
       "      <td>291773</td>\n",
       "      <td>0</td>\n",
       "      <td>a</td>\n",
       "      <td>I accidently forgot to transfer the money I wa...</td>\n",
       "    </tr>\n",
       "    <tr>\n",
       "      <th>348325</th>\n",
       "      <td>138423</td>\n",
       "      <td>7</td>\n",
       "      <td>a</td>\n",
       "      <td>XXXX XXXX XXXX XXXX is attempting to collect a...</td>\n",
       "    </tr>\n",
       "    <tr>\n",
       "      <th>385682</th>\n",
       "      <td>156318</td>\n",
       "      <td>10</td>\n",
       "      <td>a</td>\n",
       "      <td>I could not access my account online and the p...</td>\n",
       "    </tr>\n",
       "  </tbody>\n",
       "</table>\n",
       "</div>"
      ],
      "text/plain": [
       "            ID  Product Throw away  \\\n",
       "791545  334454        3          a   \n",
       "475636  200161        7          a   \n",
       "684613  291773        0          a   \n",
       "348325  138423        7          a   \n",
       "385682  156318       10          a   \n",
       "\n",
       "                                                Complaint  \n",
       "791545  I once had a credit card from capital one whic...  \n",
       "475636  The company claims i owed them and i have no k...  \n",
       "684613  I accidently forgot to transfer the money I wa...  \n",
       "348325  XXXX XXXX XXXX XXXX is attempting to collect a...  \n",
       "385682  I could not access my account online and the p...  "
      ]
     },
     "execution_count": 44,
     "metadata": {},
     "output_type": "execute_result"
    }
   ],
   "source": [
    "print(df_bert_dev.shape)\n",
    "df_bert_dev.head()"
   ]
  },
  {
   "cell_type": "code",
   "execution_count": 46,
   "id": "c176c509",
   "metadata": {},
   "outputs": [],
   "source": [
    "df_bert_train.to_csv('out.csv')"
   ]
  },
  {
   "cell_type": "code",
   "execution_count": 51,
   "id": "a64cb52e",
   "metadata": {},
   "outputs": [],
   "source": [
    "# Creating the test dataframe for BERT\n",
    "df_bert_test = pd.DataFrame({\n",
    "    'ID': df_bert['ID'],\n",
    "    'Complaint': df_bert['Complaint']\n",
    "})"
   ]
  },
  {
   "cell_type": "code",
   "execution_count": 52,
   "id": "f4372e84",
   "metadata": {},
   "outputs": [
    {
     "name": "stdout",
     "output_type": "stream",
     "text": [
      "(383564, 2)\n"
     ]
    },
    {
     "data": {
      "text/html": [
       "<div>\n",
       "<style scoped>\n",
       "    .dataframe tbody tr th:only-of-type {\n",
       "        vertical-align: middle;\n",
       "    }\n",
       "\n",
       "    .dataframe tbody tr th {\n",
       "        vertical-align: top;\n",
       "    }\n",
       "\n",
       "    .dataframe thead th {\n",
       "        text-align: right;\n",
       "    }\n",
       "</style>\n",
       "<table border=\"1\" class=\"dataframe\">\n",
       "  <thead>\n",
       "    <tr style=\"text-align: right;\">\n",
       "      <th></th>\n",
       "      <th>ID</th>\n",
       "      <th>Complaint</th>\n",
       "    </tr>\n",
       "  </thead>\n",
       "  <tbody>\n",
       "    <tr>\n",
       "      <th>29904</th>\n",
       "      <td>0</td>\n",
       "      <td>The Summer of XX/XX/2018 I was denied a mortga...</td>\n",
       "    </tr>\n",
       "    <tr>\n",
       "      <th>30629</th>\n",
       "      <td>1</td>\n",
       "      <td>There are many mistakes appear in my report wi...</td>\n",
       "    </tr>\n",
       "    <tr>\n",
       "      <th>30735</th>\n",
       "      <td>2</td>\n",
       "      <td>There are many mistakes appear in my report wi...</td>\n",
       "    </tr>\n",
       "    <tr>\n",
       "      <th>30795</th>\n",
       "      <td>3</td>\n",
       "      <td>There are many mistakes appear in my report wi...</td>\n",
       "    </tr>\n",
       "    <tr>\n",
       "      <th>30807</th>\n",
       "      <td>4</td>\n",
       "      <td>There are many mistakes appear in my report wi...</td>\n",
       "    </tr>\n",
       "  </tbody>\n",
       "</table>\n",
       "</div>"
      ],
      "text/plain": [
       "       ID                                          Complaint\n",
       "29904   0  The Summer of XX/XX/2018 I was denied a mortga...\n",
       "30629   1  There are many mistakes appear in my report wi...\n",
       "30735   2  There are many mistakes appear in my report wi...\n",
       "30795   3  There are many mistakes appear in my report wi...\n",
       "30807   4  There are many mistakes appear in my report wi..."
      ]
     },
     "execution_count": 52,
     "metadata": {},
     "output_type": "execute_result"
    }
   ],
   "source": [
    "print(df_bert_test.shape)\n",
    "df_bert_test.head()"
   ]
  },
  {
   "cell_type": "code",
   "execution_count": 47,
   "id": "57e8f56b",
   "metadata": {},
   "outputs": [],
   "source": [
    "import csv\n",
    "\n",
    "with open('C:/Users/harun/bert/data/train.tsv', 'r', encoding='utf-8') as f:\n",
    "    reader = csv.reader(f, delimiter='\\t')\n",
    "    for i, line in enumerate(reader):\n",
    "        if len(line) < 4:\n",
    "            print(f\"Line {i} has less than 4 values: {line}\")\n"
   ]
  },
  {
   "cell_type": "code",
   "execution_count": 48,
   "id": "485cfc4d",
   "metadata": {},
   "outputs": [
    {
     "name": "stdout",
     "output_type": "stream",
     "text": [
      "Line 0: ['170289', '1', 'a', 'To whom it may concern : I would like to file a complaint against Webster Bank and more specifically, the fees that the bank imposes for insufficient funds. Currently Webster Bank charges {$37.00} for insufficient funds per bank transaction. The bank fails to indicate the time when each transaction occurs. The bank only tells the customer the date of the transaction. In my case, I was charged four {$37.00} fees for transactions that the bank claimed, I did not have funds to cover. See attached bank statement from XX/XX/XXXX until XX/XX/XXXX. I was charged {$37.00} for four bank transactions that occurred on XX/XX/XXXX ( one ), and XX/XX/XXXX ( three ). I note that my balance never went to {$0.00}, and I deposited close to {$3000.00} ( {$380.00} plus {$2600.00} ) on or aboutXX/XX/XXXXI called the bank and asked the bank to refund at least 3 of the {$37.00} insufficient fee charges. The bank refused to refund any of the {$37.00} insufficient fee charges. I was told that I already had {$37.00} insufficient funds refunded to me in the past and it is the bank policy not to refund more {$37.00} insufficient find charges per year. I escalated my call to a supervisor, and I was told that someone will call me back within 24 hours, but no one called me back. I believe that Webster Bank insufficient fund police provides a revenue for the bank from \" legally stealing their customers money. \\'\\' I also note that I have overdraft protection on my checking account. I believe that the bank should have use the funs available to cover some of the charges that were withdrawn from my checking account.']\n",
      "Line 1: ['348209', '15', 'a', \"I have XXXX loans that are being serviced by AES. Due to the ridiculous 12 month limit for forbearance, I no longer have any forbearance as that was used when I went on maternity leave with each of my XXXX children. I have been unemployed for over a year and have done my best to keep up with the payments. I am a point where I can only pay for XXXX of the loans. I thought I was making the payment for XXXX loan, but as it turns out, AES was applying the payment I was submitting to both of the loans. Obviously, the amount was not enough to cover both loans. All this time I thought I was keeping up with at least XXXX loan, but just found out that my payment was being dispersed to both loans. Now I am delinquent on both loans. The loan I was trying to keep up with has a co-signer that I did not want to ruin their credit due my unemployment. I called AES and explained my situation but they refused to adjust the payments to the XXXX loan I was trying to keep current. By looking at the payments I have made, it is obviously to anyone looking at the amounts due on each of the loan that the payment amount matches XXXX of the loans ... .the XXXX I intended to pay. As a result of this obvious mistake I now have XXXX delinquent loans instead of XXXX AES refused to do anything to remedy this situation. \\nThis is the reason student hate private lenders. They refuse to work with you even when it 's obvious that a mistake was made. Something needs to be done about them because this type of situation is ridiculous! For those of you who are dealing with AES ... be sure to specify your payments otherwise they will distribute your payment in whatever way they want, not the way you want it. Apparently you can not make any mistakes when it comes to private lenders.\"]\n",
      "Line 2: ['93654', '7', 'a', 'The caller from # XXXX stated he was with the law office handling the debt. The first call on XX/XX/2018 representative stated the debt and provided options of payments. I requested to have something in writing because i have not yet received any the information that he had stated. I looked on my credit report and there was nothing of this company. I checked online with the phone number and it has been reported as a scam and not a safe number. The caller then called back on XX/XX/2018 time of around XXXX using the same number, stated that he will dropping off documents to my employer because i refused to provide my address. He did not ask for my name he simply began speaking. I stated that he did not even ask whom he had been speaking to before stating this information, the caller/rep stated that he is the only person that answers his phone so i should be the only person that answers mine. The representative then stated during the conversation multiple times that i did not have any character, he then began to verbally assault my military character i asked him to please refrain from speaking of such and the caller continued. I asked the caller if the call was recorded and that he should not be saying the things he was saying. The caller then brought up other legal cases from my past and repeatedly stated i have no type of character and continued to talk badly about me as a person. I then stated that i would be seeking legal representation the representative then called me a liar. I then ended the call.']\n",
      "Line 3: ['117452', '4', 'a', 'I applied for a new Citi AAdvantage Platinum Select Mastercard on XX/XX/XXXX. \\n\\nI was instantly denied for the following 2 reasons : 1. Too many recent credit inquiries are recorded on your credit bureau report ; and 2. Your credit report reflects a lack of recent installment loan information I feel that I have been discriminated against by Citi and my credit application has been denied on frivolous grounds. \\n\\nI have a superior FICO credit score of XXXX, and a relationship with Citicards that spans over 10 years. My accounts have always been in good standing. \\n\\nAt the time of application, I only had 3 hard inquiries in the last 6 months, 1 of which was in XX/XX/XXXX for the same Citi Mastercard application as the one above. \\n\\nI fully own my house, and naturally would not require any installment loan. I should not be penalized for this. \\n\\nDespite repeated attempts to contact Citi for a detailed explanation for the denial, no additional information has been provided.']\n",
      "Line 4: ['344360', '10', 'a', 'The borrower submitted a modification application through counsel on XXXX XXXX, 2015. More than five days have passed and the borrower has not yet received the notice required by XXXX XXXX Section XXXX XXXX b ) ( XXXX ) ( i ) ( B ) stating whether his loss mitigation application is complete or incomplete, and if incomplete, the additional documents and information he must submit to make the loss mitigation application complete.']\n",
      "Line 5: ['89188', '6', 'a', 'Spoke with creditor back in XX/XX/XXXX and XX/XX/XXXX in  regards to removing the fraudulent hard inquiries dated XX/XX/XXXX, XX/XX/XXXX, XX/XX/XXXX and XX/XX/XXXX. Creditor stated that they would remove all inquiries and till date it still shows up on all three creditor report.']\n",
      "Line 6: ['364901', '10', 'a', 'XX/XX/2012, my husband was getting ready to retire. We submitted papers to XXXX Bank America, to proceed with a refinance to lower our interest rate. Rates were coming down and this was an opportunity for us. We proceeded with home appraisal etc. The bank lost our paperwork and delayed our application. In XX/XX/XXXX when I finally pressed, I learned that we came in with a good appraisal and could go ahead, they were sorry they lost the paperwork. When they put things back in place, they were sorry, we could not qualify because my husband was retiring and our planned income would be that much less. Had they processed properly in XX/XX/XXXX - we would have cleared that hurdle. It has been XXXX years since and we continue to pay a larger interest XXXX when we could have qualified for a XXXX (at that time). (Also at that time, there was a glitch with XXXX having incorrect data, which we did follow up on and straightened out). That would have saved us more than $XXXX. month. We have tried to refinance at a lower interest rate XXXX times since and Bank AmericaXXXX and now XXXX Bank have denied us. We cannot qualify to pay less, yet we continue to pay our mortgage, our taxes and have an excellent credit rating maintained over more than XXXX years at XXXX. How is it that we cannot qualify TO PAY LESS?']\n",
      "Line 7: ['164995', '7', 'a', \"I closed my account with XXXX a long time ago. At the time, they stated that I had overpaid my bill and they sent me a {$35.00} debit card which went unused because I was unable to recall the pin # that came with the card. That in and of itself was ridiculous. Why did n't they just send me a check to cash. A few months later I start getting bills from them again that I owed {$37.00} even though previously they had stated that our business had concluded. On XXXX XXXX, they apparently referred the case to a collection agency called AFNI. Since then we have received phone calls from them every day!! I called AFNI and asked them today to stop calling after finding out that I was able to do so. Harassing frequent phone calls for {$37.00}? Ridiculous!!!\"]\n",
      "Line 8: ['364221', '0', 'a', 'Yesterday I made a deposit via mobile banking. I verified the bank received my deposit. It was added to my balance, so my checks were covered that I wrote on XXXX/XXXX/2015This morning,XXXX/XXXX/2015, I checked my bank statement on line, and I had a overdraft fee of {$210.00}. My bank statement shows that my account was overdrafted only because of the {$210.00} that the bank took. I spoke to Regions bank at several levels and was told that the statement presented on line is not accurate. Why? \\nRegions has overdrafted my account for the past 4 months, everytime I have used mobile banking or, looked at my statement at night only to wake up and find that they changed the order of checks already processed with something pending to create an overdraft. \\nI am not perfect and I have a mom on my account that sometimes uses the check card without telling me, so I can understand an overdraft here or there, but we are talking about {$700.00} to {$800.00} in the last 4 months. There is no cooperation from the bank. All I am told is that I overdrafted my account and there is nothing they can do to reverse it. \\nSomething needs to be done. I am very frustrated.']\n",
      "Line 9: ['257915', '3', 'a', \"This past Spring/Summer I started receiving notices from XXXX that they were going to be transitioning from XXXX ( which I am a cardholder of a XXXX ), to a XXXX Citibank card. I decided I would not 'opt in ' to make the transition, as I do not care to do business with Citibank XXXX and I certainly do not want another credit card. I want to say that the notices were so many, they started becoming a nuisance and easier to disregard than actually acknowledge. \\nSoon, I started receiving mailings from Citibank, but because I did n't have a business association, I disregarded them as credit card offers and set them aside in the shred bin. Finally I realized XXXX of the mailings was actually Citibank issued cards, not just the fake cards that are sometimes mailed out with an offer. Then as I sorted back through the mailings, I realized they were actually statements because the account was charged for a XXXX membership renewal, and by this time, had accrued late fees. This week, I received a letter from Citibank, delivered by XXXX, offering a 'payment option '. At this point, I am well beyond frustrated, and concerned all of this will have a negative effect on my credit report. \\nXXXX how to deal with the situation, I called the Consumer Financial Protection Bureau for assistance. I was advised that XXXX does have the right to sell and transfer my account to another party, without my consent. I do not have a balance on my XXXX, and have n't in probably over a year. So in my opinion, there was nothing to transfer. My frustration just keeps increasing. I was asked by the CFPB representative what resolution I was looking for, and it would be : XXXX. ) For the charges to the account to be reversed, with the account being brought to a zero balance, XXXX. ) The account to be cancelled, and XXXX. ) Absolutely no effect on my credit report/rating In my opinion, not XXXX part of this was consumer friendly. There should be other options for a business such as XXXX to transition to a new credit card company they choose to work with that puts the consumer first. For example, the ability to opt-in, not just an automatic transfer. In my case, I would have chosen to opt-out, but do not feel it was offered, unless it was buried in XXXX of the multiple mailings. Just because XXXX and Citibank have the understanding that they can transfer the account, does n't mean they clearly communicated that to the consumer. So, notices that highlights the fact that there currently is no option to opt in or out, instead of blasting customers with multiple, repetitive mailings that are general in nature. \\nSpeaking of the mailings, I believe they should be reduced to maybe XXXX or XXXX. XXXX to say the changes that are coming up, XXXX that confirms all the facts just before the change happens, and XXXX to confirm the change. Even the notices from Citibank looked like the average credit card offer that I am not interested in. They were very easy to disregard. \\nIn my opinion, there should be XXXX options : XXXX. Sign a form consenting to make a change to Citibank, transferring an XXXX balance, if that applies XXXX. To keep your existing XXXX account as-is, understanding it will no longer be associated with XXXX, or to XXXX. Opt-out completely, with no transfer to Citibank, cancel your XXXX, and if there is a balance on your XXXX card, pay it in full to close the account. \\nThank you for your assistance. I look forward to your reply.\"]\n"
     ]
    }
   ],
   "source": [
    "import csv\n",
    "\n",
    "with open('C:/Users/harun/bert/data/train.tsv', 'r', encoding='utf-8') as f:\n",
    "    reader = csv.reader(f, delimiter='\\t')\n",
    "    for i, line in enumerate(reader):\n",
    "        # Check if line length is not equal to 4.\n",
    "        if len(line) != 4:\n",
    "            print(f\"Line {i} has {len(line)} values: {line}\")\n",
    "\n",
    "        # Print out the first 10 lines for manual inspection.\n",
    "        if i < 10:\n",
    "            print(f\"Line {i}: {line}\")\n"
   ]
  },
  {
   "cell_type": "markdown",
   "id": "61a6cc11",
   "metadata": {},
   "source": [
    "In some ticket descriptions we have tabs. Therefore when we are using ``\\t`` as a delimeter in ``to_csv`` method of the pandas, the part of the description after the tab falls into another line. Then when we run BERT, we get out of range.\n",
    "![Index out of range](img/index-out-of-range.png)"
   ]
  },
  {
   "cell_type": "markdown",
   "id": "39dac960",
   "metadata": {},
   "source": [
    "Therefore we need to replace the tabs with a single space in the complaint column."
   ]
  },
  {
   "cell_type": "code",
   "execution_count": 61,
   "id": "849452f9",
   "metadata": {},
   "outputs": [],
   "source": [
    "df_bert_train['Complaint'] = df_bert_train['Complaint'].replace('\\t', ' ', regex=True)\n",
    "df_bert_train['Complaint'] = df_bert_train['Complaint'].replace('\\n', ' ', regex=True)"
   ]
  },
  {
   "cell_type": "code",
   "execution_count": 62,
   "id": "e1c77c46",
   "metadata": {},
   "outputs": [],
   "source": [
    "df_bert_dev['Complaint'] = df_bert_train['Complaint'].replace('\\t', ' ', regex=True)\n",
    "df_bert_dev['Complaint'] = df_bert_train['Complaint'].replace('\\n', ' ', regex=True)"
   ]
  },
  {
   "cell_type": "code",
   "execution_count": 63,
   "id": "7c0fc852",
   "metadata": {},
   "outputs": [],
   "source": [
    "df_bert_test['Complaint'] = df_bert_train['Complaint'].replace('\\t', ' ', regex=True)\n",
    "df_bert_test['Complaint'] = df_bert_train['Complaint'].replace('\\n', ' ', regex=True)"
   ]
  },
  {
   "cell_type": "code",
   "execution_count": 65,
   "id": "0f6de86b",
   "metadata": {},
   "outputs": [],
   "source": [
    "df_bert_train.to_csv('out.csv')"
   ]
  },
  {
   "cell_type": "code",
   "execution_count": 64,
   "id": "2fc527b5",
   "metadata": {},
   "outputs": [
    {
     "data": {
      "text/plain": [
       "\"I have reached out to All credit bureaus some have refused my request to dispute the unauthorized inquiries on my credit profile.  I have asked them to investigate.  XXXX employees told me they don't investigate disputes, They told me I have to reach out to the creditor to obtain a letter of deletion. After reaching out to the creditors they told me I have to call the credit bureaus and request a dispute. So I recontacted the Credit Bureaus and attempted to get them to honor my request to check out the unauthorized inquiries. They continue to give me the runaround and hanging up in my face 3 times.   Experian started off giving me a run around for my request. Telling me to reach out the creditor. By telling them I already have done this and a threat of contacting CFPB they open disputes. But when I go to the dispute center in Experian it seems as if they doubled up on disputes and missed out on a couple of disputes in the date range of XX/XX/XXXX to XX/XX/XXXX.   XXXX has also given me the run around still waiting on a call back for them to finish addressing this issue with the Inquires ...   I want is for these credit bureaus to do is follow the law validate these unauthorized inquiries and show me documentation of there validation. A binding contract, Copy of Id, Application, Authorization to pull credit ...\""
      ]
     },
     "execution_count": 64,
     "metadata": {},
     "output_type": "execute_result"
    }
   ],
   "source": [
    "df_bert_train['Complaint'][306580]"
   ]
  },
  {
   "cell_type": "code",
   "execution_count": 66,
   "id": "9fac92df",
   "metadata": {},
   "outputs": [],
   "source": [
    "# Saving dataframes to .tsv format as required by BERT\n",
    "df_bert_train.to_csv('data/train.tsv', sep='\\t', index=False, header=False)\n",
    "df_bert_dev.to_csv('data/dev.tsv', sep='\\t', index=False, header=False)\n",
    "df_bert_test.to_csv('data/test.tsv', sep='\\t', index=False, header=False)"
   ]
  }
 ],
 "metadata": {
  "kernelspec": {
   "display_name": "Python 3 (ipykernel)",
   "language": "python",
   "name": "python3"
  },
  "language_info": {
   "codemirror_mode": {
    "name": "ipython",
    "version": 3
   },
   "file_extension": ".py",
   "mimetype": "text/x-python",
   "name": "python",
   "nbconvert_exporter": "python",
   "pygments_lexer": "ipython3",
   "version": "3.9.13"
  }
 },
 "nbformat": 4,
 "nbformat_minor": 5
}
